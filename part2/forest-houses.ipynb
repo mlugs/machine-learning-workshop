{
 "cells": [
  {
   "cell_type": "code",
   "execution_count": 1,
   "id": "3801244f",
   "metadata": {},
   "outputs": [
    {
     "name": "stdout",
     "output_type": "stream",
     "text": [
      "Note: you may need to restart the kernel to use updated packages.\n"
     ]
    }
   ],
   "source": [
    "pip install --quiet --upgrade torch torchvision pytorch-lightning wandb matplotlib pillow testresources"
   ]
  },
  {
   "cell_type": "markdown",
   "id": "374aca6d",
   "metadata": {},
   "source": [
    "## 1 - forest-vs-houses - categorical"
   ]
  },
  {
   "cell_type": "markdown",
   "id": "d158059b",
   "metadata": {},
   "source": [
    "### load data"
   ]
  },
  {
   "cell_type": "code",
   "execution_count": 2,
   "id": "cd08fc16",
   "metadata": {},
   "outputs": [],
   "source": [
    "from PIL import Image\n",
    "import matplotlib.pyplot as plt"
   ]
  },
  {
   "cell_type": "markdown",
   "id": "70162f48",
   "metadata": {},
   "source": [
    "on cocalc the data is in ``/data``\n",
    "\n",
    "data sources (to use at home):\n",
    "- train/test: https://paste.madflex.de/YtmeRXrY#houses-vs-forest.zip (500mb)\n",
    "- test2: https://paste.madflex.de/pyHrvXyG#test2_f-vs-h.zip (100mb)\n",
    "- test3: https://paste.madflex.de/La6ZMHvf#test3_f-vs-h.zip (90mb)"
   ]
  },
  {
   "cell_type": "code",
   "execution_count": 3,
   "id": "a54133ed",
   "metadata": {},
   "outputs": [],
   "source": [
    "DATA_DIR = \"/data/houses-vs-forest\""
   ]
  },
  {
   "cell_type": "code",
   "execution_count": 43,
   "id": "7b6d11c3",
   "metadata": {},
   "outputs": [
    {
     "name": "stdout",
     "output_type": "stream",
     "text": [
      "G0021068.JPG  G0021546.JPG  G0042882.JPG  G0077563.JPG\tG0109966.JPG\r\n",
      "G0021170.JPG  G0042712.JPG  G0054872.JPG  G0077705.JPG\r\n",
      "G0021184.JPG  G0042762.JPG  G0056373.JPG  G0088211.JPG\r\n",
      "G0021264.JPG  G0042813.JPG  G0067018.JPG  G0088454.JPG\r\n",
      "G0021422.JPG  G0042836.JPG  G0067028.JPG  G0109938.JPG\r\n"
     ]
    }
   ],
   "source": [
    "!ls /data/houses-vs-forest/test3/houses"
   ]
  },
  {
   "cell_type": "markdown",
   "id": "7f67c81d",
   "metadata": {},
   "source": [
    "show example image (commented because this increases the notebook size)"
   ]
  },
  {
   "cell_type": "code",
   "execution_count": 5,
   "id": "7bc8b4e8",
   "metadata": {},
   "outputs": [],
   "source": [
    "# img = Image.open(f\"{DATA_DIR}/test/houses/G0023671.JPG\")\n",
    "# plt.imshow(img)\n",
    "# plt.show()"
   ]
  },
  {
   "cell_type": "code",
   "execution_count": 6,
   "id": "147aa0ec",
   "metadata": {},
   "outputs": [],
   "source": [
    "import torch\n",
    "import torchvision"
   ]
  },
  {
   "cell_type": "code",
   "execution_count": 7,
   "id": "b00a2e42",
   "metadata": {},
   "outputs": [
    {
     "name": "stderr",
     "output_type": "stream",
     "text": [
      "Global seed set to 42\n"
     ]
    },
    {
     "data": {
      "text/plain": [
       "42"
      ]
     },
     "execution_count": 7,
     "metadata": {},
     "output_type": "execute_result"
    }
   ],
   "source": [
    "import pytorch_lightning as lightning\n",
    "lightning.seed_everything(42)"
   ]
  },
  {
   "cell_type": "code",
   "execution_count": 8,
   "id": "91b6fe62",
   "metadata": {},
   "outputs": [],
   "source": [
    "transforms = torchvision.transforms.Compose([\n",
    "    torchvision.transforms.Resize(100),\n",
    "    torchvision.transforms.ToTensor()\n",
    "])"
   ]
  },
  {
   "cell_type": "markdown",
   "id": "e7cec04e",
   "metadata": {},
   "source": [
    "#### training data"
   ]
  },
  {
   "cell_type": "code",
   "execution_count": 9,
   "id": "17492cab",
   "metadata": {},
   "outputs": [],
   "source": [
    "image_train = torchvision.datasets.ImageFolder(f\"{DATA_DIR}/train\", transform=transforms)"
   ]
  },
  {
   "cell_type": "code",
   "execution_count": 10,
   "id": "176f3a16",
   "metadata": {},
   "outputs": [],
   "source": [
    "image_count = 107"
   ]
  },
  {
   "cell_type": "code",
   "execution_count": 11,
   "id": "ba55b27e",
   "metadata": {},
   "outputs": [],
   "source": [
    "train_ds, validation_ds = torch.utils.data.random_split(image_train,[(image_count-15)*2, 15*2])"
   ]
  },
  {
   "cell_type": "markdown",
   "id": "645e0eef",
   "metadata": {},
   "source": [
    "#### test data"
   ]
  },
  {
   "cell_type": "code",
   "execution_count": 12,
   "id": "0d4e25fd",
   "metadata": {},
   "outputs": [],
   "source": [
    "# images from the same tour/day\n",
    "test_ds = torchvision.datasets.ImageFolder(f\"{DATA_DIR}/test\", transform=transforms)"
   ]
  },
  {
   "cell_type": "code",
   "execution_count": 13,
   "id": "499d0556",
   "metadata": {},
   "outputs": [],
   "source": [
    "# images from *another* tour/day\n",
    "test2_ds = torchvision.datasets.ImageFolder(f\"{DATA_DIR}/test2\", transform=transforms)"
   ]
  },
  {
   "cell_type": "code",
   "execution_count": 14,
   "id": "882e77f8",
   "metadata": {},
   "outputs": [],
   "source": [
    "# images from another tour/day and another bike\n",
    "test3_ds = torchvision.datasets.ImageFolder(f\"{DATA_DIR}/test3\", transform=transforms)"
   ]
  },
  {
   "cell_type": "code",
   "execution_count": 15,
   "id": "a5d456f9",
   "metadata": {},
   "outputs": [],
   "source": [
    "all_test_ds = test_ds + test2_ds + test3_ds"
   ]
  },
  {
   "cell_type": "code",
   "execution_count": 16,
   "id": "ca246b8e",
   "metadata": {},
   "outputs": [
    {
     "data": {
      "text/plain": [
       "108"
      ]
     },
     "execution_count": 16,
     "metadata": {},
     "output_type": "execute_result"
    }
   ],
   "source": [
    "len(all_test_ds)"
   ]
  },
  {
   "cell_type": "code",
   "execution_count": 17,
   "id": "97c5ff47",
   "metadata": {},
   "outputs": [
    {
     "data": {
      "text/plain": [
       "['forest', 'houses']"
      ]
     },
     "execution_count": 17,
     "metadata": {},
     "output_type": "execute_result"
    }
   ],
   "source": [
    "image_train.classes"
   ]
  },
  {
   "cell_type": "code",
   "execution_count": 18,
   "id": "743a8e4e",
   "metadata": {},
   "outputs": [
    {
     "data": {
      "text/plain": [
       "0"
      ]
     },
     "execution_count": 18,
     "metadata": {},
     "output_type": "execute_result"
    }
   ],
   "source": [
    "all_test_ds[0][1]"
   ]
  },
  {
   "cell_type": "code",
   "execution_count": 19,
   "id": "f55e3f08",
   "metadata": {},
   "outputs": [
    {
     "data": {
      "image/png": "[encoded data removed]",
      "text/plain": [
       "<Figure size 432x288 with 1 Axes>"
      ]
     },
     "metadata": {
      "needs_background": "light"
     },
     "output_type": "display_data"
    }
   ],
   "source": [
    "number = 3\n",
    "plt.imshow(all_test_ds[number][0].permute(1, 2, 0))\n",
    "plt.title('%i' % all_test_ds[number][1])\n",
    "plt.show()"
   ]
  },
  {
   "cell_type": "code",
   "execution_count": 20,
   "id": "edafda55",
   "metadata": {
    "scrolled": true
   },
   "outputs": [
    {
     "name": "stderr",
     "output_type": "stream",
     "text": [
      "\u001b[34m\u001b[1mwandb\u001b[0m: Currently logged in as: \u001b[33mmfa\u001b[0m (use `wandb login --relogin` to force relogin)\n"
     ]
    },
    {
     "data": {
      "text/plain": [
       "True"
      ]
     },
     "execution_count": 20,
     "metadata": {},
     "output_type": "execute_result"
    }
   ],
   "source": [
    "import wandb\n",
    "wandb.login()"
   ]
  },
  {
   "cell_type": "markdown",
   "id": "64017f95",
   "metadata": {},
   "source": [
    "### Model (categorical)"
   ]
  },
  {
   "cell_type": "code",
   "execution_count": 21,
   "id": "d4eb4908",
   "metadata": {},
   "outputs": [],
   "source": [
    "from torchmetrics import Accuracy"
   ]
  },
  {
   "cell_type": "markdown",
   "id": "d04ade5f",
   "metadata": {},
   "source": [
    "Some background about CNNs:\n",
    "- https://stanford.edu/~shervine/teaching/cs-230/cheatsheet-convolutional-neural-networks\n",
    "- https://deepai.org/machine-learning-glossary-and-terms/convolutional-neural-network"
   ]
  },
  {
   "cell_type": "code",
   "execution_count": 22,
   "id": "4a3295e7",
   "metadata": {},
   "outputs": [
    {
     "data": {
      "text/plain": [
       "torch.Size([3, 100, 133])"
      ]
     },
     "execution_count": 22,
     "metadata": {},
     "output_type": "execute_result"
    }
   ],
   "source": [
    "train_ds[0][0].size()"
   ]
  },
  {
   "cell_type": "code",
   "execution_count": 23,
   "id": "eec23c55",
   "metadata": {},
   "outputs": [],
   "source": [
    "class ForestHousesCategoricalModel(lightning.LightningModule):\n",
    "    def __init__(self, learning_rate=1e-3):\n",
    "        super().__init__()\n",
    "        self.save_hyperparameters()\n",
    "\n",
    "        self.learning_rate = learning_rate\n",
    "        self.batch_size = 16\n",
    "\n",
    "        channels, width, height = train_ds[0][0].size()\n",
    "\n",
    "        self.model = torch.nn.Sequential(\n",
    "            torch.nn.Conv2d(in_channels=3, out_channels=20, kernel_size=3, stride=1, padding=0),\n",
    "            torch.nn.ReLU(),\n",
    "            torch.nn.MaxPool2d(4),\n",
    "            torch.nn.Dropout(0.5),\n",
    "            torch.nn.Flatten(),\n",
    "            #  500x + channels=20, maxpool=2 -> 1653360\n",
    "            #  100x + channels=20, maxpool=2 -> 63700\n",
    "            #  100x + channels=50, maxpool=2 -> 159250\n",
    "            #  100x + channels=50, maxpool=4 -> 38400\n",
    "            #  100x + channels=20, maxpool=4 -> 15360\n",
    "            torch.nn.Linear(15360, 2),\n",
    "        )\n",
    "        self.loss = torch.nn.CrossEntropyLoss()\n",
    "\n",
    "        acc = Accuracy()\n",
    "        self.train_acc = acc.clone()\n",
    "        self.valid_acc = acc.clone()\n",
    "\n",
    "    def forward(self, x):\n",
    "        return self.model(x)\n",
    "\n",
    "    def step(self, batch, batch_idx, name):\n",
    "        x, y = batch\n",
    "        y_hat = self.forward(x)\n",
    "        loss = self.loss(y_hat, y)\n",
    "        self.log(f\"{name}/loss\", loss)\n",
    "\n",
    "        logits = self(x)\n",
    "        preds = torch.argmax(logits, dim=1)\n",
    "        \n",
    "        if name == \"train\":\n",
    "            self.train_acc(preds, y)\n",
    "            self.log(f\"{name}/acc\", self.train_acc)\n",
    "        else:\n",
    "            self.valid_acc(preds, y)\n",
    "            self.log(f\"{name}/acc\", self.valid_acc)\n",
    "\n",
    "        return {\"loss\": loss}\n",
    "    \n",
    "    def training_step(self, batch, batch_nb):\n",
    "        return self.step(batch, batch_nb, name=\"train\")\n",
    "\n",
    "    def validation_step(self, batch, batch_idx):\n",
    "        return self.step(batch, batch_idx, name=\"val\")\n",
    "    \n",
    "    def test_step(self, batch, batch_idx):\n",
    "        return self.step(batch, batch_idx, name=\"test\")\n",
    "\n",
    "    def configure_optimizers(self):\n",
    "        return torch.optim.Adam(self.parameters(), lr=self.learning_rate)\n",
    "\n",
    "    def train_dataloader(self):\n",
    "        return torch.utils.data.DataLoader(train_ds, batch_size=self.batch_size)\n",
    "\n",
    "    def val_dataloader(self):\n",
    "        return torch.utils.data.DataLoader(validation_ds, batch_size=self.batch_size)\n",
    "\n",
    "    def test_dataloader(self):\n",
    "        return torch.utils.data.DataLoader(all_test_ds, batch_size=self.batch_size)"
   ]
  },
  {
   "cell_type": "code",
   "execution_count": 24,
   "id": "85f07047",
   "metadata": {},
   "outputs": [
    {
     "data": {
      "text/plain": [
       "ForestHousesCategoricalModel(\n",
       "  (model): Sequential(\n",
       "    (0): Conv2d(3, 20, kernel_size=(3, 3), stride=(1, 1))\n",
       "    (1): ReLU()\n",
       "    (2): MaxPool2d(kernel_size=4, stride=4, padding=0, dilation=1, ceil_mode=False)\n",
       "    (3): Dropout(p=0.5, inplace=False)\n",
       "    (4): Flatten(start_dim=1, end_dim=-1)\n",
       "    (5): Linear(in_features=15360, out_features=2, bias=True)\n",
       "  )\n",
       "  (loss): CrossEntropyLoss()\n",
       "  (train_acc): Accuracy()\n",
       "  (valid_acc): Accuracy()\n",
       ")"
      ]
     },
     "execution_count": 24,
     "metadata": {},
     "output_type": "execute_result"
    }
   ],
   "source": [
    "model_categorical = ForestHousesCategoricalModel()\n",
    "model_categorical"
   ]
  },
  {
   "cell_type": "code",
   "execution_count": 25,
   "id": "d11e913e",
   "metadata": {},
   "outputs": [
    {
     "data": {
      "text/html": [
       "\n",
       "                    Syncing run <strong><a href=\"https://wandb.ai/mfa/workshop-p2--FvsH--cat/runs/7sothvxb\" target=\"_blank\">prime-rain-6</a></strong> to <a href=\"https://wandb.ai/mfa/workshop-p2--FvsH--cat\" target=\"_blank\">Weights & Biases</a> (<a href=\"https://docs.wandb.com/integrations/jupyter.html\" target=\"_blank\">docs</a>).<br/>\n",
       "\n",
       "                "
      ],
      "text/plain": [
       "<IPython.core.display.HTML object>"
      ]
     },
     "metadata": {},
     "output_type": "display_data"
    },
    {
     "name": "stderr",
     "output_type": "stream",
     "text": [
      "\u001b[34m\u001b[1mwandb\u001b[0m: logging graph, to disable use `wandb.watch(log_graph=False)`\n",
      "GPU available: True, used: False\n",
      "TPU available: False, using: 0 TPU cores\n",
      "IPU available: False, using: 0 IPUs\n",
      "/home/mfa/.virtualenvs/machine-learning-workshop/lib/python3.9/site-packages/pytorch_lightning/trainer/trainer.py:1584: UserWarning: GPU available but not used. Set the gpus flag in your trainer `Trainer(gpus=1)` or script `--gpus=1`.\n",
      "  rank_zero_warn(\n",
      "\n",
      "  | Name      | Type             | Params\n",
      "-----------------------------------------------\n",
      "0 | model     | Sequential       | 31.3 K\n",
      "1 | loss      | CrossEntropyLoss | 0     \n",
      "2 | train_acc | Accuracy         | 0     \n",
      "3 | valid_acc | Accuracy         | 0     \n",
      "-----------------------------------------------\n",
      "31.3 K    Trainable params\n",
      "0         Non-trainable params\n",
      "31.3 K    Total params\n",
      "0.125     Total estimated model params size (MB)\n"
     ]
    },
    {
     "data": {
      "application/vnd.jupyter.widget-view+json": {
       "model_id": "",
       "version_major": 2,
       "version_minor": 0
      },
      "text/plain": [
       "Validation sanity check: 0it [00:00, ?it/s]"
      ]
     },
     "metadata": {},
     "output_type": "display_data"
    },
    {
     "name": "stderr",
     "output_type": "stream",
     "text": [
      "/home/mfa/.virtualenvs/machine-learning-workshop/lib/python3.9/site-packages/pytorch_lightning/trainer/data_loading.py:132: UserWarning: The dataloader, val_dataloader 0, does not have many workers which may be a bottleneck. Consider increasing the value of the `num_workers` argument` (try 8 which is the number of cpus on this machine) in the `DataLoader` init to improve performance.\n",
      "  rank_zero_warn(\n",
      "Global seed set to 42\n",
      "/home/mfa/.virtualenvs/machine-learning-workshop/lib/python3.9/site-packages/pytorch_lightning/trainer/data_loading.py:132: UserWarning: The dataloader, train_dataloader, does not have many workers which may be a bottleneck. Consider increasing the value of the `num_workers` argument` (try 8 which is the number of cpus on this machine) in the `DataLoader` init to improve performance.\n",
      "  rank_zero_warn(\n",
      "/home/mfa/.virtualenvs/machine-learning-workshop/lib/python3.9/site-packages/pytorch_lightning/trainer/data_loading.py:432: UserWarning: The number of training samples (12) is smaller than the logging interval Trainer(log_every_n_steps=50). Set a lower value for log_every_n_steps if you want to see logs for the training epoch.\n",
      "  rank_zero_warn(\n"
     ]
    },
    {
     "data": {
      "application/vnd.jupyter.widget-view+json": {
       "model_id": "c3a070543e30485dba14f0e3efebc3de",
       "version_major": 2,
       "version_minor": 0
      },
      "text/plain": [
       "Training: 0it [00:00, ?it/s]"
      ]
     },
     "metadata": {},
     "output_type": "display_data"
    },
    {
     "data": {
      "application/vnd.jupyter.widget-view+json": {
       "model_id": "",
       "version_major": 2,
       "version_minor": 0
      },
      "text/plain": [
       "Validating: 0it [00:00, ?it/s]"
      ]
     },
     "metadata": {},
     "output_type": "display_data"
    },
    {
     "data": {
      "application/vnd.jupyter.widget-view+json": {
       "model_id": "",
       "version_major": 2,
       "version_minor": 0
      },
      "text/plain": [
       "Validating: 0it [00:00, ?it/s]"
      ]
     },
     "metadata": {},
     "output_type": "display_data"
    },
    {
     "data": {
      "application/vnd.jupyter.widget-view+json": {
       "model_id": "",
       "version_major": 2,
       "version_minor": 0
      },
      "text/plain": [
       "Validating: 0it [00:00, ?it/s]"
      ]
     },
     "metadata": {},
     "output_type": "display_data"
    },
    {
     "data": {
      "application/vnd.jupyter.widget-view+json": {
       "model_id": "",
       "version_major": 2,
       "version_minor": 0
      },
      "text/plain": [
       "Validating: 0it [00:00, ?it/s]"
      ]
     },
     "metadata": {},
     "output_type": "display_data"
    },
    {
     "data": {
      "application/vnd.jupyter.widget-view+json": {
       "model_id": "",
       "version_major": 2,
       "version_minor": 0
      },
      "text/plain": [
       "Validating: 0it [00:00, ?it/s]"
      ]
     },
     "metadata": {},
     "output_type": "display_data"
    },
    {
     "data": {
      "application/vnd.jupyter.widget-view+json": {
       "model_id": "",
       "version_major": 2,
       "version_minor": 0
      },
      "text/plain": [
       "Validating: 0it [00:00, ?it/s]"
      ]
     },
     "metadata": {},
     "output_type": "display_data"
    },
    {
     "data": {
      "application/vnd.jupyter.widget-view+json": {
       "model_id": "",
       "version_major": 2,
       "version_minor": 0
      },
      "text/plain": [
       "Validating: 0it [00:00, ?it/s]"
      ]
     },
     "metadata": {},
     "output_type": "display_data"
    },
    {
     "data": {
      "application/vnd.jupyter.widget-view+json": {
       "model_id": "",
       "version_major": 2,
       "version_minor": 0
      },
      "text/plain": [
       "Validating: 0it [00:00, ?it/s]"
      ]
     },
     "metadata": {},
     "output_type": "display_data"
    },
    {
     "data": {
      "application/vnd.jupyter.widget-view+json": {
       "model_id": "",
       "version_major": 2,
       "version_minor": 0
      },
      "text/plain": [
       "Validating: 0it [00:00, ?it/s]"
      ]
     },
     "metadata": {},
     "output_type": "display_data"
    },
    {
     "data": {
      "application/vnd.jupyter.widget-view+json": {
       "model_id": "",
       "version_major": 2,
       "version_minor": 0
      },
      "text/plain": [
       "Validating: 0it [00:00, ?it/s]"
      ]
     },
     "metadata": {},
     "output_type": "display_data"
    }
   ],
   "source": [
    "wandb_logger = lightning.loggers.WandbLogger(project=\"workshop-p2--FvsH--cat\")\n",
    "wandb_logger.watch(model_categorical, log=\"all\")\n",
    "trainer_categorical = lightning.Trainer(gpus=0, max_epochs=10, logger=wandb_logger)\n",
    "trainer_categorical.fit(model_categorical)"
   ]
  },
  {
   "cell_type": "code",
   "execution_count": 26,
   "id": "b252c684",
   "metadata": {},
   "outputs": [
    {
     "name": "stderr",
     "output_type": "stream",
     "text": [
      "Restoring states from the checkpoint path at /home/mfa/machine-learning-workshop/part2/workshop-p2--FvsH--cat/7sothvxb/checkpoints/epoch=9-step=119.ckpt\n",
      "Loaded model weights from checkpoint at /home/mfa/machine-learning-workshop/part2/workshop-p2--FvsH--cat/7sothvxb/checkpoints/epoch=9-step=119.ckpt\n",
      "/home/mfa/.virtualenvs/machine-learning-workshop/lib/python3.9/site-packages/pytorch_lightning/trainer/data_loading.py:132: UserWarning: The dataloader, test_dataloader 0, does not have many workers which may be a bottleneck. Consider increasing the value of the `num_workers` argument` (try 8 which is the number of cpus on this machine) in the `DataLoader` init to improve performance.\n",
      "  rank_zero_warn(\n"
     ]
    },
    {
     "data": {
      "application/vnd.jupyter.widget-view+json": {
       "model_id": "8993a912ffa14d41a3daea932679c0e6",
       "version_major": 2,
       "version_minor": 0
      },
      "text/plain": [
       "Testing: 0it [00:00, ?it/s]"
      ]
     },
     "metadata": {},
     "output_type": "display_data"
    },
    {
     "name": "stdout",
     "output_type": "stream",
     "text": [
      "--------------------------------------------------------------------------------\n",
      "DATALOADER:0 TEST RESULTS\n",
      "{'test/acc': 0.7870370149612427, 'test/loss': 0.5997459292411804}\n",
      "--------------------------------------------------------------------------------\n"
     ]
    },
    {
     "data": {
      "text/plain": [
       "[{'test/loss': 0.5997459292411804, 'test/acc': 0.7870370149612427}]"
      ]
     },
     "execution_count": 26,
     "metadata": {},
     "output_type": "execute_result"
    }
   ],
   "source": [
    "trainer_categorical.test(ckpt_path='best')"
   ]
  },
  {
   "cell_type": "code",
   "execution_count": 27,
   "id": "f9a7169c",
   "metadata": {
    "scrolled": false
   },
   "outputs": [
    {
     "data": {
      "text/html": [
       "<br/>Waiting for W&B process to finish, PID 623770... <strong style=\"color:green\">(success).</strong>"
      ],
      "text/plain": [
       "<IPython.core.display.HTML object>"
      ]
     },
     "metadata": {},
     "output_type": "display_data"
    },
    {
     "data": {
      "application/vnd.jupyter.widget-view+json": {
       "model_id": "",
       "version_major": 2,
       "version_minor": 0
      },
      "text/plain": [
       "VBox(children=(Label(value=' 0.00MB of 0.00MB uploaded (0.00MB deduped)\\r'), FloatProgress(value=1.0, max=1.0)…"
      ]
     },
     "metadata": {},
     "output_type": "display_data"
    },
    {
     "data": {
      "text/html": [
       "<style>\n",
       "    table.wandb td:nth-child(1) { padding: 0 10px; text-align: right }\n",
       "    .wandb-row { display: flex; flex-direction: row; flex-wrap: wrap; width: 100% }\n",
       "    .wandb-col { display: flex; flex-direction: column; flex-basis: 100%; flex: 1; padding: 10px; }\n",
       "    </style>\n",
       "<div class=\"wandb-row\"><div class=\"wandb-col\">\n",
       "<h3>Run history:</h3><br/><table class=\"wandb\"><tr><td>epoch</td><td>▁▂▂▃▄▄▅▅▆▇▇▇█</td></tr><tr><td>test/acc</td><td>▁</td></tr><tr><td>test/loss</td><td>▁</td></tr><tr><td>train/acc</td><td>▁█</td></tr><tr><td>train/loss</td><td>█▁</td></tr><tr><td>trainer/global_step</td><td>▁▂▃▃▃▄▅▆▆▇▇██</td></tr><tr><td>val/acc</td><td>▁▇████████</td></tr><tr><td>val/loss</td><td>█▅▃▂▂▁▁▁▁▁</td></tr></table><br/></div><div class=\"wandb-col\">\n",
       "<h3>Run summary:</h3><br/><table class=\"wandb\"><tr><td>epoch</td><td>10</td></tr><tr><td>test/acc</td><td>0.78704</td></tr><tr><td>test/loss</td><td>0.59975</td></tr><tr><td>train/acc</td><td>1.0</td></tr><tr><td>train/loss</td><td>0.03891</td></tr><tr><td>trainer/global_step</td><td>120</td></tr><tr><td>val/acc</td><td>1.0</td></tr><tr><td>val/loss</td><td>0.03131</td></tr></table>\n",
       "</div></div>\n",
       "Synced 5 W&B file(s), 1 media file(s), 0 artifact file(s) and 0 other file(s)\n",
       "<br/>Synced <strong style=\"color:#cdcd00\">prime-rain-6</strong>: <a href=\"https://wandb.ai/mfa/workshop-p2--FvsH--cat/runs/7sothvxb\" target=\"_blank\">https://wandb.ai/mfa/workshop-p2--FvsH--cat/runs/7sothvxb</a><br/>\n",
       "Find logs at: <code>./wandb/run-20220227_180300-7sothvxb/logs</code><br/>\n"
      ],
      "text/plain": [
       "<IPython.core.display.HTML object>"
      ]
     },
     "metadata": {},
     "output_type": "display_data"
    }
   ],
   "source": [
    "wandb.finish()"
   ]
  },
  {
   "cell_type": "code",
   "execution_count": 28,
   "id": "c274d7f2",
   "metadata": {},
   "outputs": [],
   "source": [
    "# alternative to reshape without knowing the dimensions\n",
    "img = test_ds[0][0][None, :]"
   ]
  },
  {
   "cell_type": "code",
   "execution_count": 29,
   "id": "474486eb",
   "metadata": {},
   "outputs": [
    {
     "data": {
      "text/plain": [
       "torch.Size([1, 3, 100, 133])"
      ]
     },
     "execution_count": 29,
     "metadata": {},
     "output_type": "execute_result"
    }
   ],
   "source": [
    "img.size()"
   ]
  },
  {
   "cell_type": "code",
   "execution_count": 30,
   "id": "32b283b5",
   "metadata": {},
   "outputs": [],
   "source": [
    "import termcolor"
   ]
  },
  {
   "cell_type": "code",
   "execution_count": 31,
   "id": "feb5cccb",
   "metadata": {},
   "outputs": [],
   "source": [
    "def test_result(idx, image, model):\n",
    "    img = image[0][None, :]\n",
    "    r = model(img)\n",
    "    is_correct = bool(image[1] == torch.argmax(r))\n",
    "    is_correct = termcolor.colored(is_correct, \"green\" if is_correct else \"red\")\n",
    "    return \" \".join([str(i) for i in [idx, image[1], test_ds.classes[image[1]], is_correct, torch.argmax(r), r]])"
   ]
  },
  {
   "cell_type": "code",
   "execution_count": 32,
   "id": "389e9b43",
   "metadata": {},
   "outputs": [
    {
     "name": "stdout",
     "output_type": "stream",
     "text": [
      "0 0 forest \u001b[32mTrue\u001b[0m tensor(0) tensor([[ 0.2663, -0.3796]], grad_fn=<AddmmBackward0>)\n",
      "1 0 forest \u001b[32mTrue\u001b[0m tensor(0) tensor([[ 1.8222, -1.9089]], grad_fn=<AddmmBackward0>)\n",
      "2 0 forest \u001b[32mTrue\u001b[0m tensor(0) tensor([[ 2.1652, -2.1790]], grad_fn=<AddmmBackward0>)\n",
      "3 0 forest \u001b[32mTrue\u001b[0m tensor(0) tensor([[ 1.8663, -1.8476]], grad_fn=<AddmmBackward0>)\n",
      "4 0 forest \u001b[32mTrue\u001b[0m tensor(0) tensor([[ 2.3496, -2.5498]], grad_fn=<AddmmBackward0>)\n",
      "5 0 forest \u001b[32mTrue\u001b[0m tensor(0) tensor([[ 1.3001, -1.2972]], grad_fn=<AddmmBackward0>)\n",
      "6 0 forest \u001b[32mTrue\u001b[0m tensor(0) tensor([[ 2.8249, -2.9902]], grad_fn=<AddmmBackward0>)\n",
      "7 0 forest \u001b[32mTrue\u001b[0m tensor(0) tensor([[ 1.7455, -1.9884]], grad_fn=<AddmmBackward0>)\n",
      "8 0 forest \u001b[32mTrue\u001b[0m tensor(0) tensor([[ 2.0554, -2.0904]], grad_fn=<AddmmBackward0>)\n",
      "9 0 forest \u001b[32mTrue\u001b[0m tensor(0) tensor([[ 1.9758, -2.1721]], grad_fn=<AddmmBackward0>)\n",
      "10 1 houses \u001b[32mTrue\u001b[0m tensor(1) tensor([[-1.1121,  1.3902]], grad_fn=<AddmmBackward0>)\n",
      "11 1 houses \u001b[32mTrue\u001b[0m tensor(1) tensor([[-1.6234,  1.5733]], grad_fn=<AddmmBackward0>)\n",
      "12 1 houses \u001b[32mTrue\u001b[0m tensor(1) tensor([[-3.6904,  3.7501]], grad_fn=<AddmmBackward0>)\n",
      "13 1 houses \u001b[32mTrue\u001b[0m tensor(1) tensor([[-2.4420,  2.4142]], grad_fn=<AddmmBackward0>)\n",
      "14 1 houses \u001b[32mTrue\u001b[0m tensor(1) tensor([[-0.9640,  0.9489]], grad_fn=<AddmmBackward0>)\n",
      "15 1 houses \u001b[32mTrue\u001b[0m tensor(1) tensor([[-1.8978,  1.7828]], grad_fn=<AddmmBackward0>)\n",
      "16 1 houses \u001b[32mTrue\u001b[0m tensor(1) tensor([[-2.3503,  2.5697]], grad_fn=<AddmmBackward0>)\n",
      "17 1 houses \u001b[32mTrue\u001b[0m tensor(1) tensor([[-3.7533,  3.7792]], grad_fn=<AddmmBackward0>)\n",
      "18 1 houses \u001b[32mTrue\u001b[0m tensor(1) tensor([[-1.1455,  1.1023]], grad_fn=<AddmmBackward0>)\n",
      "19 1 houses \u001b[32mTrue\u001b[0m tensor(1) tensor([[-2.7593,  2.8759]], grad_fn=<AddmmBackward0>)\n"
     ]
    }
   ],
   "source": [
    "for idx, item in enumerate(test_ds):\n",
    "    print(test_result(idx, item, trainer_categorical.model))"
   ]
  },
  {
   "cell_type": "code",
   "execution_count": 33,
   "id": "49abcd09",
   "metadata": {},
   "outputs": [
    {
     "name": "stdout",
     "output_type": "stream",
     "text": [
      "0 0 forest \u001b[32mTrue\u001b[0m tensor(0) tensor([[ 1.2319, -1.2127]], grad_fn=<AddmmBackward0>)\n",
      "1 0 forest \u001b[32mTrue\u001b[0m tensor(0) tensor([[ 1.7231, -1.8192]], grad_fn=<AddmmBackward0>)\n",
      "2 0 forest \u001b[31mFalse\u001b[0m tensor(1) tensor([[-1.0754,  1.0351]], grad_fn=<AddmmBackward0>)\n",
      "3 0 forest \u001b[31mFalse\u001b[0m tensor(1) tensor([[-0.4455,  0.2473]], grad_fn=<AddmmBackward0>)\n",
      "4 0 forest \u001b[32mTrue\u001b[0m tensor(0) tensor([[ 1.8709, -1.8220]], grad_fn=<AddmmBackward0>)\n",
      "5 0 forest \u001b[32mTrue\u001b[0m tensor(0) tensor([[ 2.5683, -2.4219]], grad_fn=<AddmmBackward0>)\n",
      "6 0 forest \u001b[32mTrue\u001b[0m tensor(0) tensor([[ 0.8763, -0.9510]], grad_fn=<AddmmBackward0>)\n",
      "7 0 forest \u001b[32mTrue\u001b[0m tensor(0) tensor([[ 0.9395, -0.9447]], grad_fn=<AddmmBackward0>)\n",
      "8 0 forest \u001b[31mFalse\u001b[0m tensor(1) tensor([[-0.9938,  0.9235]], grad_fn=<AddmmBackward0>)\n",
      "9 0 forest \u001b[32mTrue\u001b[0m tensor(0) tensor([[ 0.2479, -0.2415]], grad_fn=<AddmmBackward0>)\n",
      "10 0 forest \u001b[32mTrue\u001b[0m tensor(0) tensor([[ 0.3621, -0.3231]], grad_fn=<AddmmBackward0>)\n",
      "11 0 forest \u001b[32mTrue\u001b[0m tensor(0) tensor([[ 1.7188, -1.6429]], grad_fn=<AddmmBackward0>)\n",
      "12 0 forest \u001b[32mTrue\u001b[0m tensor(0) tensor([[ 0.6542, -0.7275]], grad_fn=<AddmmBackward0>)\n",
      "13 0 forest \u001b[32mTrue\u001b[0m tensor(0) tensor([[ 0.5492, -0.5776]], grad_fn=<AddmmBackward0>)\n",
      "14 0 forest \u001b[32mTrue\u001b[0m tensor(0) tensor([[ 0.2044, -0.3863]], grad_fn=<AddmmBackward0>)\n",
      "15 0 forest \u001b[31mFalse\u001b[0m tensor(1) tensor([[-0.0198,  0.1568]], grad_fn=<AddmmBackward0>)\n",
      "16 0 forest \u001b[32mTrue\u001b[0m tensor(0) tensor([[ 1.8103, -1.7572]], grad_fn=<AddmmBackward0>)\n",
      "17 0 forest \u001b[32mTrue\u001b[0m tensor(0) tensor([[ 0.9672, -0.9509]], grad_fn=<AddmmBackward0>)\n",
      "18 0 forest \u001b[32mTrue\u001b[0m tensor(0) tensor([[ 1.8451, -1.7750]], grad_fn=<AddmmBackward0>)\n",
      "19 0 forest \u001b[31mFalse\u001b[0m tensor(1) tensor([[-1.0344,  0.9713]], grad_fn=<AddmmBackward0>)\n",
      "20 0 forest \u001b[31mFalse\u001b[0m tensor(1) tensor([[-0.7359,  0.7806]], grad_fn=<AddmmBackward0>)\n",
      "21 0 forest \u001b[32mTrue\u001b[0m tensor(0) tensor([[ 0.1594, -0.4181]], grad_fn=<AddmmBackward0>)\n",
      "22 0 forest \u001b[32mTrue\u001b[0m tensor(0) tensor([[ 0.8076, -0.7799]], grad_fn=<AddmmBackward0>)\n",
      "23 1 houses \u001b[32mTrue\u001b[0m tensor(1) tensor([[-2.4382,  2.3358]], grad_fn=<AddmmBackward0>)\n",
      "24 1 houses \u001b[32mTrue\u001b[0m tensor(1) tensor([[-2.1265,  1.9598]], grad_fn=<AddmmBackward0>)\n",
      "25 1 houses \u001b[32mTrue\u001b[0m tensor(1) tensor([[-0.5887,  0.6569]], grad_fn=<AddmmBackward0>)\n",
      "26 1 houses \u001b[32mTrue\u001b[0m tensor(1) tensor([[-2.1689,  2.2924]], grad_fn=<AddmmBackward0>)\n",
      "27 1 houses \u001b[32mTrue\u001b[0m tensor(1) tensor([[-1.6103,  1.5488]], grad_fn=<AddmmBackward0>)\n",
      "28 1 houses \u001b[32mTrue\u001b[0m tensor(1) tensor([[-0.5114,  0.7269]], grad_fn=<AddmmBackward0>)\n",
      "29 1 houses \u001b[32mTrue\u001b[0m tensor(1) tensor([[-0.7165,  0.7681]], grad_fn=<AddmmBackward0>)\n",
      "30 1 houses \u001b[32mTrue\u001b[0m tensor(1) tensor([[-2.8903,  2.8769]], grad_fn=<AddmmBackward0>)\n",
      "31 1 houses \u001b[32mTrue\u001b[0m tensor(1) tensor([[-1.9984,  1.9811]], grad_fn=<AddmmBackward0>)\n",
      "32 1 houses \u001b[32mTrue\u001b[0m tensor(1) tensor([[-2.6472,  2.6753]], grad_fn=<AddmmBackward0>)\n",
      "33 1 houses \u001b[32mTrue\u001b[0m tensor(1) tensor([[-1.8618,  1.9145]], grad_fn=<AddmmBackward0>)\n",
      "34 1 houses \u001b[32mTrue\u001b[0m tensor(1) tensor([[-1.7614,  1.6876]], grad_fn=<AddmmBackward0>)\n",
      "35 1 houses \u001b[31mFalse\u001b[0m tensor(0) tensor([[ 0.3362, -0.4820]], grad_fn=<AddmmBackward0>)\n",
      "36 1 houses \u001b[32mTrue\u001b[0m tensor(1) tensor([[-1.1386,  1.2229]], grad_fn=<AddmmBackward0>)\n",
      "37 1 houses \u001b[32mTrue\u001b[0m tensor(1) tensor([[-2.2627,  2.2110]], grad_fn=<AddmmBackward0>)\n",
      "38 1 houses \u001b[32mTrue\u001b[0m tensor(1) tensor([[-0.8972,  0.8766]], grad_fn=<AddmmBackward0>)\n",
      "39 1 houses \u001b[32mTrue\u001b[0m tensor(1) tensor([[-2.5791,  2.4686]], grad_fn=<AddmmBackward0>)\n",
      "40 1 houses \u001b[32mTrue\u001b[0m tensor(1) tensor([[-3.5351,  3.3726]], grad_fn=<AddmmBackward0>)\n",
      "41 1 houses \u001b[32mTrue\u001b[0m tensor(1) tensor([[-0.0372,  0.0318]], grad_fn=<AddmmBackward0>)\n",
      "42 1 houses \u001b[32mTrue\u001b[0m tensor(1) tensor([[-1.2020,  1.1322]], grad_fn=<AddmmBackward0>)\n",
      "43 1 houses \u001b[32mTrue\u001b[0m tensor(1) tensor([[-1.9614,  2.0385]], grad_fn=<AddmmBackward0>)\n",
      "44 1 houses \u001b[32mTrue\u001b[0m tensor(1) tensor([[-1.3330,  1.3175]], grad_fn=<AddmmBackward0>)\n",
      "45 1 houses \u001b[32mTrue\u001b[0m tensor(1) tensor([[-1.2684,  1.1167]], grad_fn=<AddmmBackward0>)\n"
     ]
    }
   ],
   "source": [
    "for idx, item in enumerate(test2_ds):\n",
    "    print(test_result(idx, item, trainer_categorical.model))"
   ]
  },
  {
   "cell_type": "code",
   "execution_count": 34,
   "id": "ed2abf90",
   "metadata": {},
   "outputs": [
    {
     "name": "stdout",
     "output_type": "stream",
     "text": [
      "0 0 forest \u001b[31mFalse\u001b[0m tensor(1) tensor([[-0.6518,  0.5386]], grad_fn=<AddmmBackward0>)\n",
      "1 0 forest \u001b[31mFalse\u001b[0m tensor(1) tensor([[-1.1508,  1.0810]], grad_fn=<AddmmBackward0>)\n",
      "2 0 forest \u001b[31mFalse\u001b[0m tensor(1) tensor([[-2.6155,  2.6391]], grad_fn=<AddmmBackward0>)\n",
      "3 0 forest \u001b[31mFalse\u001b[0m tensor(1) tensor([[-0.8300,  0.5967]], grad_fn=<AddmmBackward0>)\n",
      "4 0 forest \u001b[31mFalse\u001b[0m tensor(1) tensor([[-0.6251,  0.7260]], grad_fn=<AddmmBackward0>)\n",
      "5 0 forest \u001b[31mFalse\u001b[0m tensor(1) tensor([[-0.9106,  0.8477]], grad_fn=<AddmmBackward0>)\n",
      "6 0 forest \u001b[31mFalse\u001b[0m tensor(1) tensor([[-0.9305,  0.9121]], grad_fn=<AddmmBackward0>)\n",
      "7 0 forest \u001b[31mFalse\u001b[0m tensor(1) tensor([[-1.1129,  0.8192]], grad_fn=<AddmmBackward0>)\n",
      "8 0 forest \u001b[31mFalse\u001b[0m tensor(1) tensor([[-1.8555,  1.7542]], grad_fn=<AddmmBackward0>)\n",
      "9 0 forest \u001b[32mTrue\u001b[0m tensor(0) tensor([[ 0.3702, -0.3716]], grad_fn=<AddmmBackward0>)\n",
      "10 0 forest \u001b[31mFalse\u001b[0m tensor(1) tensor([[-1.5137,  1.4858]], grad_fn=<AddmmBackward0>)\n",
      "11 0 forest \u001b[31mFalse\u001b[0m tensor(1) tensor([[-2.0860,  2.0245]], grad_fn=<AddmmBackward0>)\n",
      "12 0 forest \u001b[31mFalse\u001b[0m tensor(1) tensor([[-2.4765,  2.4381]], grad_fn=<AddmmBackward0>)\n",
      "13 0 forest \u001b[31mFalse\u001b[0m tensor(1) tensor([[-1.7980,  1.6739]], grad_fn=<AddmmBackward0>)\n",
      "14 0 forest \u001b[32mTrue\u001b[0m tensor(0) tensor([[-0.0125, -0.0567]], grad_fn=<AddmmBackward0>)\n",
      "15 0 forest \u001b[32mTrue\u001b[0m tensor(0) tensor([[ 1.0674, -1.1798]], grad_fn=<AddmmBackward0>)\n",
      "16 0 forest \u001b[32mTrue\u001b[0m tensor(0) tensor([[ 1.6550, -1.7195]], grad_fn=<AddmmBackward0>)\n",
      "17 0 forest \u001b[31mFalse\u001b[0m tensor(1) tensor([[-0.8816,  0.7382]], grad_fn=<AddmmBackward0>)\n",
      "18 0 forest \u001b[31mFalse\u001b[0m tensor(1) tensor([[-0.4735,  0.6595]], grad_fn=<AddmmBackward0>)\n",
      "19 0 forest \u001b[31mFalse\u001b[0m tensor(1) tensor([[-0.8483,  0.9272]], grad_fn=<AddmmBackward0>)\n",
      "20 0 forest \u001b[32mTrue\u001b[0m tensor(0) tensor([[ 0.0746, -0.2587]], grad_fn=<AddmmBackward0>)\n",
      "21 1 houses \u001b[32mTrue\u001b[0m tensor(1) tensor([[-2.0054,  2.0523]], grad_fn=<AddmmBackward0>)\n",
      "22 1 houses \u001b[32mTrue\u001b[0m tensor(1) tensor([[-1.5663,  1.4584]], grad_fn=<AddmmBackward0>)\n",
      "23 1 houses \u001b[32mTrue\u001b[0m tensor(1) tensor([[-1.8199,  2.0113]], grad_fn=<AddmmBackward0>)\n",
      "24 1 houses \u001b[32mTrue\u001b[0m tensor(1) tensor([[-0.6935,  0.5970]], grad_fn=<AddmmBackward0>)\n",
      "25 1 houses \u001b[32mTrue\u001b[0m tensor(1) tensor([[-0.8130,  0.9157]], grad_fn=<AddmmBackward0>)\n",
      "26 1 houses \u001b[32mTrue\u001b[0m tensor(1) tensor([[-1.4681,  1.3279]], grad_fn=<AddmmBackward0>)\n",
      "27 1 houses \u001b[32mTrue\u001b[0m tensor(1) tensor([[-2.5741,  2.4286]], grad_fn=<AddmmBackward0>)\n",
      "28 1 houses \u001b[32mTrue\u001b[0m tensor(1) tensor([[-1.8249,  1.7309]], grad_fn=<AddmmBackward0>)\n",
      "29 1 houses \u001b[32mTrue\u001b[0m tensor(1) tensor([[-1.4208,  1.4221]], grad_fn=<AddmmBackward0>)\n",
      "30 1 houses \u001b[32mTrue\u001b[0m tensor(1) tensor([[-1.2483,  1.0872]], grad_fn=<AddmmBackward0>)\n",
      "31 1 houses \u001b[32mTrue\u001b[0m tensor(1) tensor([[-1.6643,  1.4038]], grad_fn=<AddmmBackward0>)\n",
      "32 1 houses \u001b[32mTrue\u001b[0m tensor(1) tensor([[-1.5304,  1.4990]], grad_fn=<AddmmBackward0>)\n",
      "33 1 houses \u001b[32mTrue\u001b[0m tensor(1) tensor([[-3.1284,  2.9009]], grad_fn=<AddmmBackward0>)\n",
      "34 1 houses \u001b[32mTrue\u001b[0m tensor(1) tensor([[-0.3797,  0.2793]], grad_fn=<AddmmBackward0>)\n",
      "35 1 houses \u001b[32mTrue\u001b[0m tensor(1) tensor([[-0.3391,  0.1844]], grad_fn=<AddmmBackward0>)\n",
      "36 1 houses \u001b[32mTrue\u001b[0m tensor(1) tensor([[-3.2703,  2.9346]], grad_fn=<AddmmBackward0>)\n",
      "37 1 houses \u001b[32mTrue\u001b[0m tensor(1) tensor([[-2.2135,  2.2176]], grad_fn=<AddmmBackward0>)\n",
      "38 1 houses \u001b[32mTrue\u001b[0m tensor(1) tensor([[-1.5700,  1.5912]], grad_fn=<AddmmBackward0>)\n",
      "39 1 houses \u001b[32mTrue\u001b[0m tensor(1) tensor([[-1.8817,  1.8887]], grad_fn=<AddmmBackward0>)\n",
      "40 1 houses \u001b[32mTrue\u001b[0m tensor(1) tensor([[-1.2511,  1.3170]], grad_fn=<AddmmBackward0>)\n",
      "41 1 houses \u001b[32mTrue\u001b[0m tensor(1) tensor([[-2.4702,  2.5375]], grad_fn=<AddmmBackward0>)\n"
     ]
    }
   ],
   "source": [
    "for idx, item in enumerate(test3_ds):\n",
    "    print(test_result(idx, item, trainer_categorical.model))"
   ]
  },
  {
   "cell_type": "markdown",
   "id": "4d94c38d",
   "metadata": {},
   "source": [
    "## 2 - forest-vs-houses -  binary\n",
    "\n",
    "the same model, but changed to a binary model"
   ]
  },
  {
   "cell_type": "code",
   "execution_count": 35,
   "id": "edbf5f13",
   "metadata": {},
   "outputs": [],
   "source": [
    "class ForestHousesBinaryModel(lightning.LightningModule):\n",
    "    def __init__(self, learning_rate=1e-3):\n",
    "        super().__init__()\n",
    "        self.save_hyperparameters()\n",
    "\n",
    "        self.learning_rate = learning_rate\n",
    "        self.batch_size = 16\n",
    "\n",
    "        channels, width, height = train_ds[0][0].size()\n",
    "\n",
    "        self.model = torch.nn.Sequential(\n",
    "            torch.nn.Conv2d(in_channels=3, out_channels=20, kernel_size=3, stride=1, padding=0),\n",
    "            torch.nn.ReLU(),\n",
    "            torch.nn.MaxPool2d(4),\n",
    "            torch.nn.Dropout(0.5),\n",
    "            torch.nn.Flatten(),\n",
    "            #  500x + channels=20, maxpool=2 -> 1653360\n",
    "            #  100x + channels=20, maxpool=2 -> 63700\n",
    "            #  100x + channels=50, maxpool=2 -> 159250\n",
    "            #  100x + channels=50, maxpool=4 -> 38400\n",
    "            #  100x + channels=20, maxpool=4 -> 15360\n",
    "            torch.nn.Linear(15360, 1),  # <-- 1 (because binary)\n",
    "            torch.nn.Sigmoid(), # sideeffect: bring output values in correct range (0..1)          \n",
    "        )\n",
    "\n",
    "        # different loss for binary\n",
    "        self.loss = torch.nn.BCELoss()\n",
    "\n",
    "        # alternative, works with values outside of range (0..1) but also results in values outside of range\n",
    "        # self.loss = torch.nn.BCEWithLogitsLoss()  \n",
    "        \n",
    "        acc = Accuracy()\n",
    "        self.train_acc = acc.clone()\n",
    "        self.valid_acc = acc.clone()\n",
    "\n",
    "    def forward(self, x):\n",
    "        return self.model(x)\n",
    "\n",
    "    def step(self, batch, batch_idx, name):\n",
    "        x, y = batch\n",
    "        y_hat = self.forward(x)\n",
    "        \n",
    "        # transform y\n",
    "        # [1, 2, 3] -> [[1], [2], [3]]\n",
    "        y.unsqueeze_(1)\n",
    "        \n",
    "        # cast dtype:int to dtype:float for y (target)\n",
    "        loss = self.loss(y_hat, y.float())\n",
    "        \n",
    "        self.log(f\"{name}/loss\", loss)\n",
    "\n",
    "        logits = self(x)\n",
    "        # no argmax needed -> logits are result\n",
    "        \n",
    "        # target stays here as dtype:int\n",
    "        if name == \"train\":\n",
    "            self.train_acc(logits, y)\n",
    "            self.log(f\"{name}/acc\", self.train_acc)\n",
    "        else:\n",
    "            self.valid_acc(logits, y)\n",
    "            self.log(f\"{name}/acc\", self.valid_acc)\n",
    "\n",
    "        return {\"loss\": loss}\n",
    "    \n",
    "    def training_step(self, batch, batch_nb):\n",
    "        return self.step(batch, batch_nb, name=\"train\")\n",
    "\n",
    "    def validation_step(self, batch, batch_idx):\n",
    "        return self.step(batch, batch_idx, name=\"val\")\n",
    "    \n",
    "    def test_step(self, batch, batch_idx):\n",
    "        return self.step(batch, batch_idx, name=\"test\")\n",
    "\n",
    "    def configure_optimizers(self):\n",
    "        return torch.optim.Adam(self.parameters(), lr=self.learning_rate)\n",
    "\n",
    "    def train_dataloader(self):\n",
    "        return torch.utils.data.DataLoader(train_ds, batch_size=self.batch_size)\n",
    "\n",
    "    def val_dataloader(self):\n",
    "        return torch.utils.data.DataLoader(validation_ds, batch_size=self.batch_size)\n",
    "\n",
    "    def test_dataloader(self):\n",
    "        return torch.utils.data.DataLoader(all_test_ds, batch_size=self.batch_size)"
   ]
  },
  {
   "cell_type": "code",
   "execution_count": 36,
   "id": "027cdbe9",
   "metadata": {},
   "outputs": [
    {
     "data": {
      "text/plain": [
       "ForestHousesBinaryModel(\n",
       "  (model): Sequential(\n",
       "    (0): Conv2d(3, 20, kernel_size=(3, 3), stride=(1, 1))\n",
       "    (1): ReLU()\n",
       "    (2): MaxPool2d(kernel_size=4, stride=4, padding=0, dilation=1, ceil_mode=False)\n",
       "    (3): Dropout(p=0.5, inplace=False)\n",
       "    (4): Flatten(start_dim=1, end_dim=-1)\n",
       "    (5): Linear(in_features=15360, out_features=1, bias=True)\n",
       "    (6): Sigmoid()\n",
       "  )\n",
       "  (loss): BCELoss()\n",
       "  (train_acc): Accuracy()\n",
       "  (valid_acc): Accuracy()\n",
       ")"
      ]
     },
     "execution_count": 36,
     "metadata": {},
     "output_type": "execute_result"
    }
   ],
   "source": [
    "model_binary = ForestHousesBinaryModel()\n",
    "model_binary"
   ]
  },
  {
   "cell_type": "code",
   "execution_count": 37,
   "id": "f3c1b375",
   "metadata": {},
   "outputs": [
    {
     "data": {
      "text/html": [
       "\n",
       "                    Syncing run <strong><a href=\"https://wandb.ai/mfa/workshop-p2--FvsH--bin/runs/8zp4lao3\" target=\"_blank\">lunar-snowball-6</a></strong> to <a href=\"https://wandb.ai/mfa/workshop-p2--FvsH--bin\" target=\"_blank\">Weights & Biases</a> (<a href=\"https://docs.wandb.com/integrations/jupyter.html\" target=\"_blank\">docs</a>).<br/>\n",
       "\n",
       "                "
      ],
      "text/plain": [
       "<IPython.core.display.HTML object>"
      ]
     },
     "metadata": {},
     "output_type": "display_data"
    },
    {
     "name": "stderr",
     "output_type": "stream",
     "text": [
      "\u001b[34m\u001b[1mwandb\u001b[0m: logging graph, to disable use `wandb.watch(log_graph=False)`\n",
      "GPU available: True, used: False\n",
      "TPU available: False, using: 0 TPU cores\n",
      "IPU available: False, using: 0 IPUs\n",
      "/home/mfa/.virtualenvs/machine-learning-workshop/lib/python3.9/site-packages/pytorch_lightning/trainer/trainer.py:1584: UserWarning: GPU available but not used. Set the gpus flag in your trainer `Trainer(gpus=1)` or script `--gpus=1`.\n",
      "  rank_zero_warn(\n",
      "\n",
      "  | Name      | Type       | Params\n",
      "-----------------------------------------\n",
      "0 | model     | Sequential | 15.9 K\n",
      "1 | loss      | BCELoss    | 0     \n",
      "2 | train_acc | Accuracy   | 0     \n",
      "3 | valid_acc | Accuracy   | 0     \n",
      "-----------------------------------------\n",
      "15.9 K    Trainable params\n",
      "0         Non-trainable params\n",
      "15.9 K    Total params\n",
      "0.064     Total estimated model params size (MB)\n"
     ]
    },
    {
     "data": {
      "application/vnd.jupyter.widget-view+json": {
       "model_id": "",
       "version_major": 2,
       "version_minor": 0
      },
      "text/plain": [
       "Validation sanity check: 0it [00:00, ?it/s]"
      ]
     },
     "metadata": {},
     "output_type": "display_data"
    },
    {
     "name": "stderr",
     "output_type": "stream",
     "text": [
      "/home/mfa/.virtualenvs/machine-learning-workshop/lib/python3.9/site-packages/pytorch_lightning/trainer/data_loading.py:132: UserWarning: The dataloader, val_dataloader 0, does not have many workers which may be a bottleneck. Consider increasing the value of the `num_workers` argument` (try 8 which is the number of cpus on this machine) in the `DataLoader` init to improve performance.\n",
      "  rank_zero_warn(\n",
      "Global seed set to 42\n",
      "/home/mfa/.virtualenvs/machine-learning-workshop/lib/python3.9/site-packages/pytorch_lightning/trainer/data_loading.py:132: UserWarning: The dataloader, train_dataloader, does not have many workers which may be a bottleneck. Consider increasing the value of the `num_workers` argument` (try 8 which is the number of cpus on this machine) in the `DataLoader` init to improve performance.\n",
      "  rank_zero_warn(\n",
      "/home/mfa/.virtualenvs/machine-learning-workshop/lib/python3.9/site-packages/pytorch_lightning/trainer/data_loading.py:432: UserWarning: The number of training samples (12) is smaller than the logging interval Trainer(log_every_n_steps=50). Set a lower value for log_every_n_steps if you want to see logs for the training epoch.\n",
      "  rank_zero_warn(\n"
     ]
    },
    {
     "data": {
      "application/vnd.jupyter.widget-view+json": {
       "model_id": "05e3b14ba02e416a8516c8ff6ff3b46a",
       "version_major": 2,
       "version_minor": 0
      },
      "text/plain": [
       "Training: 0it [00:00, ?it/s]"
      ]
     },
     "metadata": {},
     "output_type": "display_data"
    },
    {
     "data": {
      "application/vnd.jupyter.widget-view+json": {
       "model_id": "",
       "version_major": 2,
       "version_minor": 0
      },
      "text/plain": [
       "Validating: 0it [00:00, ?it/s]"
      ]
     },
     "metadata": {},
     "output_type": "display_data"
    },
    {
     "data": {
      "application/vnd.jupyter.widget-view+json": {
       "model_id": "",
       "version_major": 2,
       "version_minor": 0
      },
      "text/plain": [
       "Validating: 0it [00:00, ?it/s]"
      ]
     },
     "metadata": {},
     "output_type": "display_data"
    },
    {
     "data": {
      "application/vnd.jupyter.widget-view+json": {
       "model_id": "",
       "version_major": 2,
       "version_minor": 0
      },
      "text/plain": [
       "Validating: 0it [00:00, ?it/s]"
      ]
     },
     "metadata": {},
     "output_type": "display_data"
    },
    {
     "data": {
      "application/vnd.jupyter.widget-view+json": {
       "model_id": "",
       "version_major": 2,
       "version_minor": 0
      },
      "text/plain": [
       "Validating: 0it [00:00, ?it/s]"
      ]
     },
     "metadata": {},
     "output_type": "display_data"
    },
    {
     "data": {
      "application/vnd.jupyter.widget-view+json": {
       "model_id": "",
       "version_major": 2,
       "version_minor": 0
      },
      "text/plain": [
       "Validating: 0it [00:00, ?it/s]"
      ]
     },
     "metadata": {},
     "output_type": "display_data"
    },
    {
     "data": {
      "application/vnd.jupyter.widget-view+json": {
       "model_id": "",
       "version_major": 2,
       "version_minor": 0
      },
      "text/plain": [
       "Validating: 0it [00:00, ?it/s]"
      ]
     },
     "metadata": {},
     "output_type": "display_data"
    },
    {
     "data": {
      "application/vnd.jupyter.widget-view+json": {
       "model_id": "",
       "version_major": 2,
       "version_minor": 0
      },
      "text/plain": [
       "Validating: 0it [00:00, ?it/s]"
      ]
     },
     "metadata": {},
     "output_type": "display_data"
    },
    {
     "data": {
      "application/vnd.jupyter.widget-view+json": {
       "model_id": "",
       "version_major": 2,
       "version_minor": 0
      },
      "text/plain": [
       "Validating: 0it [00:00, ?it/s]"
      ]
     },
     "metadata": {},
     "output_type": "display_data"
    },
    {
     "data": {
      "application/vnd.jupyter.widget-view+json": {
       "model_id": "",
       "version_major": 2,
       "version_minor": 0
      },
      "text/plain": [
       "Validating: 0it [00:00, ?it/s]"
      ]
     },
     "metadata": {},
     "output_type": "display_data"
    },
    {
     "data": {
      "application/vnd.jupyter.widget-view+json": {
       "model_id": "",
       "version_major": 2,
       "version_minor": 0
      },
      "text/plain": [
       "Validating: 0it [00:00, ?it/s]"
      ]
     },
     "metadata": {},
     "output_type": "display_data"
    }
   ],
   "source": [
    "wandb_logger = lightning.loggers.WandbLogger(project=\"workshop-p2--FvsH--bin\")\n",
    "wandb_logger.watch(model_binary, log=\"all\")\n",
    "trainer_binary = lightning.Trainer(gpus=0, max_epochs=10, logger=wandb_logger)\n",
    "trainer_binary.fit(model_binary)"
   ]
  },
  {
   "cell_type": "code",
   "execution_count": 38,
   "id": "2805011d",
   "metadata": {},
   "outputs": [
    {
     "name": "stderr",
     "output_type": "stream",
     "text": [
      "Restoring states from the checkpoint path at /home/mfa/machine-learning-workshop/part2/workshop-p2--FvsH--bin/8zp4lao3/checkpoints/epoch=9-step=119.ckpt\n",
      "Loaded model weights from checkpoint at /home/mfa/machine-learning-workshop/part2/workshop-p2--FvsH--bin/8zp4lao3/checkpoints/epoch=9-step=119.ckpt\n",
      "/home/mfa/.virtualenvs/machine-learning-workshop/lib/python3.9/site-packages/pytorch_lightning/trainer/data_loading.py:132: UserWarning: The dataloader, test_dataloader 0, does not have many workers which may be a bottleneck. Consider increasing the value of the `num_workers` argument` (try 8 which is the number of cpus on this machine) in the `DataLoader` init to improve performance.\n",
      "  rank_zero_warn(\n"
     ]
    },
    {
     "data": {
      "application/vnd.jupyter.widget-view+json": {
       "model_id": "b65f56a02bee44568a940fbc29565830",
       "version_major": 2,
       "version_minor": 0
      },
      "text/plain": [
       "Testing: 0it [00:00, ?it/s]"
      ]
     },
     "metadata": {},
     "output_type": "display_data"
    },
    {
     "name": "stdout",
     "output_type": "stream",
     "text": [
      "--------------------------------------------------------------------------------\n",
      "DATALOADER:0 TEST RESULTS\n",
      "{'test/acc': 0.7777777910232544, 'test/loss': 0.5638598203659058}\n",
      "--------------------------------------------------------------------------------\n"
     ]
    },
    {
     "data": {
      "text/plain": [
       "[{'test/loss': 0.5638598203659058, 'test/acc': 0.7777777910232544}]"
      ]
     },
     "execution_count": 38,
     "metadata": {},
     "output_type": "execute_result"
    }
   ],
   "source": [
    "trainer_binary.test(ckpt_path='best')"
   ]
  },
  {
   "cell_type": "code",
   "execution_count": 39,
   "id": "afb7cc22",
   "metadata": {},
   "outputs": [
    {
     "data": {
      "text/html": [
       "<br/>Waiting for W&B process to finish, PID 623855... <strong style=\"color:green\">(success).</strong>"
      ],
      "text/plain": [
       "<IPython.core.display.HTML object>"
      ]
     },
     "metadata": {},
     "output_type": "display_data"
    },
    {
     "data": {
      "application/vnd.jupyter.widget-view+json": {
       "model_id": "",
       "version_major": 2,
       "version_minor": 0
      },
      "text/plain": [
       "VBox(children=(Label(value=' 0.00MB of 0.00MB uploaded (0.00MB deduped)\\r'), FloatProgress(value=1.0, max=1.0)…"
      ]
     },
     "metadata": {},
     "output_type": "display_data"
    },
    {
     "data": {
      "text/html": [
       "<style>\n",
       "    table.wandb td:nth-child(1) { padding: 0 10px; text-align: right }\n",
       "    .wandb-row { display: flex; flex-direction: row; flex-wrap: wrap; width: 100% }\n",
       "    .wandb-col { display: flex; flex-direction: column; flex-basis: 100%; flex: 1; padding: 10px; }\n",
       "    </style>\n",
       "<div class=\"wandb-row\"><div class=\"wandb-col\">\n",
       "<h3>Run history:</h3><br/><table class=\"wandb\"><tr><td>epoch</td><td>▁▂▂▃▄▄▅▅▆▇▇▇█</td></tr><tr><td>test/acc</td><td>▁</td></tr><tr><td>test/loss</td><td>▁</td></tr><tr><td>train/acc</td><td>▁█</td></tr><tr><td>train/loss</td><td>█▁</td></tr><tr><td>trainer/global_step</td><td>▁▂▃▃▃▄▅▆▆▇▇██</td></tr><tr><td>val/acc</td><td>▁▃▄▄▆▇████</td></tr><tr><td>val/loss</td><td>█▆▄▃▃▂▂▁▁▁</td></tr></table><br/></div><div class=\"wandb-col\">\n",
       "<h3>Run summary:</h3><br/><table class=\"wandb\"><tr><td>epoch</td><td>10</td></tr><tr><td>test/acc</td><td>0.77778</td></tr><tr><td>test/loss</td><td>0.56386</td></tr><tr><td>train/acc</td><td>1.0</td></tr><tr><td>train/loss</td><td>0.07574</td></tr><tr><td>trainer/global_step</td><td>120</td></tr><tr><td>val/acc</td><td>1.0</td></tr><tr><td>val/loss</td><td>0.07903</td></tr></table>\n",
       "</div></div>\n",
       "Synced 5 W&B file(s), 1 media file(s), 0 artifact file(s) and 0 other file(s)\n",
       "<br/>Synced <strong style=\"color:#cdcd00\">lunar-snowball-6</strong>: <a href=\"https://wandb.ai/mfa/workshop-p2--FvsH--bin/runs/8zp4lao3\" target=\"_blank\">https://wandb.ai/mfa/workshop-p2--FvsH--bin/runs/8zp4lao3</a><br/>\n",
       "Find logs at: <code>./wandb/run-20220227_180849-8zp4lao3/logs</code><br/>\n"
      ],
      "text/plain": [
       "<IPython.core.display.HTML object>"
      ]
     },
     "metadata": {},
     "output_type": "display_data"
    }
   ],
   "source": [
    "wandb.finish()"
   ]
  },
  {
   "cell_type": "code",
   "execution_count": 40,
   "id": "1f421708",
   "metadata": {},
   "outputs": [],
   "source": [
    "def test_result(idx, image, model):\n",
    "    img = image[0][None, :]\n",
    "    r = model(img)\n",
    "    is_correct = (r[0] > 0.5) == (image[1] == 1)\n",
    "    is_correct = termcolor.colored(is_correct, \"green\" if is_correct else \"red\")\n",
    "    return \" \".join([str(i) for i in [idx, image[1], test_ds.classes[image[1]], is_correct, r]])"
   ]
  },
  {
   "cell_type": "markdown",
   "id": "3c6a92eb",
   "metadata": {},
   "source": [
    "Accuracy: https://torchmetrics.readthedocs.io/en/stable/references/modules.html#id3\n",
    "default threshold=0.5"
   ]
  },
  {
   "cell_type": "code",
   "execution_count": 41,
   "id": "a4c09777",
   "metadata": {
    "scrolled": false
   },
   "outputs": [
    {
     "name": "stdout",
     "output_type": "stream",
     "text": [
      "0 0 forest \u001b[31mtensor([False])\u001b[0m tensor([[0.7163]], grad_fn=<SigmoidBackward0>)\n",
      "1 0 forest \u001b[32mtensor([True])\u001b[0m tensor([[0.1081]], grad_fn=<SigmoidBackward0>)\n",
      "2 0 forest \u001b[32mtensor([True])\u001b[0m tensor([[0.0369]], grad_fn=<SigmoidBackward0>)\n",
      "3 0 forest \u001b[32mtensor([True])\u001b[0m tensor([[0.0263]], grad_fn=<SigmoidBackward0>)\n",
      "4 0 forest \u001b[32mtensor([True])\u001b[0m tensor([[0.0828]], grad_fn=<SigmoidBackward0>)\n",
      "5 0 forest \u001b[32mtensor([True])\u001b[0m tensor([[0.2214]], grad_fn=<SigmoidBackward0>)\n",
      "6 0 forest \u001b[32mtensor([True])\u001b[0m tensor([[0.0097]], grad_fn=<SigmoidBackward0>)\n",
      "7 0 forest \u001b[32mtensor([True])\u001b[0m tensor([[0.0339]], grad_fn=<SigmoidBackward0>)\n",
      "8 0 forest \u001b[32mtensor([True])\u001b[0m tensor([[0.0413]], grad_fn=<SigmoidBackward0>)\n",
      "9 0 forest \u001b[32mtensor([True])\u001b[0m tensor([[0.0652]], grad_fn=<SigmoidBackward0>)\n",
      "10 1 houses \u001b[32mtensor([True])\u001b[0m tensor([[0.8933]], grad_fn=<SigmoidBackward0>)\n",
      "11 1 houses \u001b[32mtensor([True])\u001b[0m tensor([[0.8701]], grad_fn=<SigmoidBackward0>)\n",
      "12 1 houses \u001b[32mtensor([True])\u001b[0m tensor([[0.9957]], grad_fn=<SigmoidBackward0>)\n",
      "13 1 houses \u001b[32mtensor([True])\u001b[0m tensor([[0.9925]], grad_fn=<SigmoidBackward0>)\n",
      "14 1 houses \u001b[32mtensor([True])\u001b[0m tensor([[0.9138]], grad_fn=<SigmoidBackward0>)\n",
      "15 1 houses \u001b[32mtensor([True])\u001b[0m tensor([[0.9826]], grad_fn=<SigmoidBackward0>)\n",
      "16 1 houses \u001b[32mtensor([True])\u001b[0m tensor([[0.9815]], grad_fn=<SigmoidBackward0>)\n",
      "17 1 houses \u001b[32mtensor([True])\u001b[0m tensor([[0.9988]], grad_fn=<SigmoidBackward0>)\n",
      "18 1 houses \u001b[32mtensor([True])\u001b[0m tensor([[0.9791]], grad_fn=<SigmoidBackward0>)\n",
      "19 1 houses \u001b[32mtensor([True])\u001b[0m tensor([[0.9780]], grad_fn=<SigmoidBackward0>)\n",
      "20 0 forest \u001b[32mtensor([True])\u001b[0m tensor([[0.1195]], grad_fn=<SigmoidBackward0>)\n",
      "21 0 forest \u001b[32mtensor([True])\u001b[0m tensor([[0.0959]], grad_fn=<SigmoidBackward0>)\n",
      "22 0 forest \u001b[31mtensor([False])\u001b[0m tensor([[0.7844]], grad_fn=<SigmoidBackward0>)\n",
      "23 0 forest \u001b[31mtensor([False])\u001b[0m tensor([[0.7698]], grad_fn=<SigmoidBackward0>)\n",
      "24 0 forest \u001b[32mtensor([True])\u001b[0m tensor([[0.1082]], grad_fn=<SigmoidBackward0>)\n",
      "25 0 forest \u001b[32mtensor([True])\u001b[0m tensor([[0.0056]], grad_fn=<SigmoidBackward0>)\n",
      "26 0 forest \u001b[32mtensor([True])\u001b[0m tensor([[0.2212]], grad_fn=<SigmoidBackward0>)\n",
      "27 0 forest \u001b[32mtensor([True])\u001b[0m tensor([[0.2195]], grad_fn=<SigmoidBackward0>)\n",
      "28 0 forest \u001b[31mtensor([False])\u001b[0m tensor([[0.8134]], grad_fn=<SigmoidBackward0>)\n",
      "29 0 forest \u001b[32mtensor([True])\u001b[0m tensor([[0.4822]], grad_fn=<SigmoidBackward0>)\n",
      "30 0 forest \u001b[32mtensor([True])\u001b[0m tensor([[0.4788]], grad_fn=<SigmoidBackward0>)\n",
      "31 0 forest \u001b[32mtensor([True])\u001b[0m tensor([[0.0566]], grad_fn=<SigmoidBackward0>)\n",
      "32 0 forest \u001b[32mtensor([True])\u001b[0m tensor([[0.0997]], grad_fn=<SigmoidBackward0>)\n",
      "33 0 forest \u001b[32mtensor([True])\u001b[0m tensor([[0.1710]], grad_fn=<SigmoidBackward0>)\n",
      "34 0 forest \u001b[32mtensor([True])\u001b[0m tensor([[0.1538]], grad_fn=<SigmoidBackward0>)\n",
      "35 0 forest \u001b[32mtensor([True])\u001b[0m tensor([[0.3417]], grad_fn=<SigmoidBackward0>)\n",
      "36 0 forest \u001b[32mtensor([True])\u001b[0m tensor([[0.1002]], grad_fn=<SigmoidBackward0>)\n",
      "37 0 forest \u001b[32mtensor([True])\u001b[0m tensor([[0.1167]], grad_fn=<SigmoidBackward0>)\n",
      "38 0 forest \u001b[32mtensor([True])\u001b[0m tensor([[0.0842]], grad_fn=<SigmoidBackward0>)\n",
      "39 0 forest \u001b[31mtensor([False])\u001b[0m tensor([[0.7488]], grad_fn=<SigmoidBackward0>)\n",
      "40 0 forest \u001b[32mtensor([True])\u001b[0m tensor([[0.3141]], grad_fn=<SigmoidBackward0>)\n",
      "41 0 forest \u001b[32mtensor([True])\u001b[0m tensor([[0.2847]], grad_fn=<SigmoidBackward0>)\n",
      "42 0 forest \u001b[32mtensor([True])\u001b[0m tensor([[0.0709]], grad_fn=<SigmoidBackward0>)\n",
      "43 1 houses \u001b[32mtensor([True])\u001b[0m tensor([[0.9891]], grad_fn=<SigmoidBackward0>)\n",
      "44 1 houses \u001b[32mtensor([True])\u001b[0m tensor([[0.9767]], grad_fn=<SigmoidBackward0>)\n",
      "45 1 houses \u001b[32mtensor([True])\u001b[0m tensor([[0.7941]], grad_fn=<SigmoidBackward0>)\n",
      "46 1 houses \u001b[32mtensor([True])\u001b[0m tensor([[0.9689]], grad_fn=<SigmoidBackward0>)\n",
      "47 1 houses \u001b[32mtensor([True])\u001b[0m tensor([[0.9792]], grad_fn=<SigmoidBackward0>)\n",
      "48 1 houses \u001b[32mtensor([True])\u001b[0m tensor([[0.9861]], grad_fn=<SigmoidBackward0>)\n",
      "49 1 houses \u001b[32mtensor([True])\u001b[0m tensor([[0.9595]], grad_fn=<SigmoidBackward0>)\n",
      "50 1 houses \u001b[32mtensor([True])\u001b[0m tensor([[0.9988]], grad_fn=<SigmoidBackward0>)\n",
      "51 1 houses \u001b[32mtensor([True])\u001b[0m tensor([[0.9893]], grad_fn=<SigmoidBackward0>)\n",
      "52 1 houses \u001b[32mtensor([True])\u001b[0m tensor([[0.9983]], grad_fn=<SigmoidBackward0>)\n",
      "53 1 houses \u001b[32mtensor([True])\u001b[0m tensor([[0.9854]], grad_fn=<SigmoidBackward0>)\n",
      "54 1 houses \u001b[32mtensor([True])\u001b[0m tensor([[0.9815]], grad_fn=<SigmoidBackward0>)\n",
      "55 1 houses \u001b[32mtensor([True])\u001b[0m tensor([[0.8023]], grad_fn=<SigmoidBackward0>)\n",
      "56 1 houses \u001b[32mtensor([True])\u001b[0m tensor([[0.9001]], grad_fn=<SigmoidBackward0>)\n",
      "57 1 houses \u001b[32mtensor([True])\u001b[0m tensor([[0.9903]], grad_fn=<SigmoidBackward0>)\n",
      "58 1 houses \u001b[32mtensor([True])\u001b[0m tensor([[0.9371]], grad_fn=<SigmoidBackward0>)\n",
      "59 1 houses \u001b[32mtensor([True])\u001b[0m tensor([[0.9811]], grad_fn=<SigmoidBackward0>)\n",
      "60 1 houses \u001b[32mtensor([True])\u001b[0m tensor([[0.9881]], grad_fn=<SigmoidBackward0>)\n",
      "61 1 houses \u001b[32mtensor([True])\u001b[0m tensor([[0.6254]], grad_fn=<SigmoidBackward0>)\n",
      "62 1 houses \u001b[32mtensor([True])\u001b[0m tensor([[0.9472]], grad_fn=<SigmoidBackward0>)\n",
      "63 1 houses \u001b[32mtensor([True])\u001b[0m tensor([[0.9733]], grad_fn=<SigmoidBackward0>)\n",
      "64 1 houses \u001b[32mtensor([True])\u001b[0m tensor([[0.6653]], grad_fn=<SigmoidBackward0>)\n",
      "65 1 houses \u001b[32mtensor([True])\u001b[0m tensor([[0.9038]], grad_fn=<SigmoidBackward0>)\n",
      "66 0 forest \u001b[31mtensor([False])\u001b[0m tensor([[0.9347]], grad_fn=<SigmoidBackward0>)\n",
      "67 0 forest \u001b[31mtensor([False])\u001b[0m tensor([[0.9429]], grad_fn=<SigmoidBackward0>)\n",
      "68 0 forest \u001b[31mtensor([False])\u001b[0m tensor([[0.9606]], grad_fn=<SigmoidBackward0>)\n",
      "69 0 forest \u001b[31mtensor([False])\u001b[0m tensor([[0.8757]], grad_fn=<SigmoidBackward0>)\n",
      "70 0 forest \u001b[31mtensor([False])\u001b[0m tensor([[0.7221]], grad_fn=<SigmoidBackward0>)\n",
      "71 0 forest \u001b[31mtensor([False])\u001b[0m tensor([[0.7553]], grad_fn=<SigmoidBackward0>)\n",
      "72 0 forest \u001b[31mtensor([False])\u001b[0m tensor([[0.8529]], grad_fn=<SigmoidBackward0>)\n",
      "73 0 forest \u001b[31mtensor([False])\u001b[0m tensor([[0.7902]], grad_fn=<SigmoidBackward0>)\n",
      "74 0 forest \u001b[31mtensor([False])\u001b[0m tensor([[0.9739]], grad_fn=<SigmoidBackward0>)\n",
      "75 0 forest \u001b[32mtensor([True])\u001b[0m tensor([[0.3769]], grad_fn=<SigmoidBackward0>)\n",
      "76 0 forest \u001b[31mtensor([False])\u001b[0m tensor([[0.9456]], grad_fn=<SigmoidBackward0>)\n",
      "77 0 forest \u001b[31mtensor([False])\u001b[0m tensor([[0.9794]], grad_fn=<SigmoidBackward0>)\n",
      "78 0 forest \u001b[31mtensor([False])\u001b[0m tensor([[0.9871]], grad_fn=<SigmoidBackward0>)\n",
      "79 0 forest \u001b[31mtensor([False])\u001b[0m tensor([[0.9712]], grad_fn=<SigmoidBackward0>)\n",
      "80 0 forest \u001b[31mtensor([False])\u001b[0m tensor([[0.6518]], grad_fn=<SigmoidBackward0>)\n",
      "81 0 forest \u001b[32mtensor([True])\u001b[0m tensor([[0.3858]], grad_fn=<SigmoidBackward0>)\n",
      "82 0 forest \u001b[32mtensor([True])\u001b[0m tensor([[0.4167]], grad_fn=<SigmoidBackward0>)\n",
      "83 0 forest \u001b[31mtensor([False])\u001b[0m tensor([[0.7221]], grad_fn=<SigmoidBackward0>)\n",
      "84 0 forest \u001b[31mtensor([False])\u001b[0m tensor([[0.7607]], grad_fn=<SigmoidBackward0>)\n",
      "85 0 forest \u001b[31mtensor([False])\u001b[0m tensor([[0.8564]], grad_fn=<SigmoidBackward0>)\n",
      "86 0 forest \u001b[31mtensor([False])\u001b[0m tensor([[0.5878]], grad_fn=<SigmoidBackward0>)\n",
      "87 1 houses \u001b[32mtensor([True])\u001b[0m tensor([[0.9850]], grad_fn=<SigmoidBackward0>)\n",
      "88 1 houses \u001b[32mtensor([True])\u001b[0m tensor([[0.9761]], grad_fn=<SigmoidBackward0>)\n",
      "89 1 houses \u001b[32mtensor([True])\u001b[0m tensor([[0.9730]], grad_fn=<SigmoidBackward0>)\n",
      "90 1 houses \u001b[32mtensor([True])\u001b[0m tensor([[0.9094]], grad_fn=<SigmoidBackward0>)\n",
      "91 1 houses \u001b[32mtensor([True])\u001b[0m tensor([[0.9496]], grad_fn=<SigmoidBackward0>)\n",
      "92 1 houses \u001b[32mtensor([True])\u001b[0m tensor([[0.9340]], grad_fn=<SigmoidBackward0>)\n",
      "93 1 houses \u001b[32mtensor([True])\u001b[0m tensor([[0.9886]], grad_fn=<SigmoidBackward0>)\n",
      "94 1 houses \u001b[32mtensor([True])\u001b[0m tensor([[0.9731]], grad_fn=<SigmoidBackward0>)\n",
      "95 1 houses \u001b[32mtensor([True])\u001b[0m tensor([[0.9216]], grad_fn=<SigmoidBackward0>)\n",
      "96 1 houses \u001b[32mtensor([True])\u001b[0m tensor([[0.8428]], grad_fn=<SigmoidBackward0>)\n",
      "97 1 houses \u001b[32mtensor([True])\u001b[0m tensor([[0.9880]], grad_fn=<SigmoidBackward0>)\n",
      "98 1 houses \u001b[32mtensor([True])\u001b[0m tensor([[0.9781]], grad_fn=<SigmoidBackward0>)\n",
      "99 1 houses \u001b[32mtensor([True])\u001b[0m tensor([[0.9986]], grad_fn=<SigmoidBackward0>)\n",
      "100 1 houses \u001b[32mtensor([True])\u001b[0m tensor([[0.9599]], grad_fn=<SigmoidBackward0>)\n",
      "101 1 houses \u001b[32mtensor([True])\u001b[0m tensor([[0.9315]], grad_fn=<SigmoidBackward0>)\n",
      "102 1 houses \u001b[32mtensor([True])\u001b[0m tensor([[0.9909]], grad_fn=<SigmoidBackward0>)\n",
      "103 1 houses \u001b[32mtensor([True])\u001b[0m tensor([[0.9940]], grad_fn=<SigmoidBackward0>)\n",
      "104 1 houses \u001b[32mtensor([True])\u001b[0m tensor([[0.9713]], grad_fn=<SigmoidBackward0>)\n",
      "105 1 houses \u001b[32mtensor([True])\u001b[0m tensor([[0.9891]], grad_fn=<SigmoidBackward0>)\n",
      "106 1 houses \u001b[32mtensor([True])\u001b[0m tensor([[0.9522]], grad_fn=<SigmoidBackward0>)\n",
      "107 1 houses \u001b[32mtensor([True])\u001b[0m tensor([[0.9910]], grad_fn=<SigmoidBackward0>)\n"
     ]
    }
   ],
   "source": [
    "for idx, item in enumerate(all_test_ds):\n",
    "    print(test_result(idx, item, trainer_binary.model))"
   ]
  },
  {
   "cell_type": "code",
   "execution_count": null,
   "id": "71d8038d",
   "metadata": {},
   "outputs": [],
   "source": []
  }
 ],
 "metadata": {
  "kernelspec": {
   "display_name": "Python 3 (ipykernel)",
   "language": "python",
   "name": "python3"
  },
  "language_info": {
   "codemirror_mode": {
    "name": "ipython",
    "version": 3
   },
   "file_extension": ".py",
   "mimetype": "text/x-python",
   "name": "python",
   "nbconvert_exporter": "python",
   "pygments_lexer": "ipython3",
   "version": "3.9.9"
  }
 },
 "nbformat": 4,
 "nbformat_minor": 5
}
