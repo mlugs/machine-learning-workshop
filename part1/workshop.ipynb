{
 "cells": [
  {
   "cell_type": "markdown",
   "id": "155693f2",
   "metadata": {},
   "source": [
    "# ML Workshop - Part 1: MNIST"
   ]
  },
  {
   "cell_type": "markdown",
   "id": "ad4434a4",
   "metadata": {},
   "source": [
    "### install packages"
   ]
  },
  {
   "cell_type": "markdown",
   "id": "d695aed5",
   "metadata": {},
   "source": [
    "restart kernel afterwards to reload packages"
   ]
  },
  {
   "cell_type": "code",
   "execution_count": 1,
   "id": "41553541",
   "metadata": {},
   "outputs": [
    {
     "name": "stdout",
     "output_type": "stream",
     "text": [
      "Note: you may need to restart the kernel to use updated packages.\n"
     ]
    }
   ],
   "source": [
    "pip install --quiet torch torchvision pytorch-lightning wandb matplotlib"
   ]
  },
  {
   "cell_type": "markdown",
   "id": "013d04d9",
   "metadata": {},
   "source": [
    "load pytorch and test if pip install worked"
   ]
  },
  {
   "cell_type": "code",
   "execution_count": 2,
   "id": "86c0d9cf",
   "metadata": {},
   "outputs": [],
   "source": [
    "import torch"
   ]
  },
  {
   "cell_type": "markdown",
   "id": "479deea2",
   "metadata": {},
   "source": [
    "test if CUDA is available  \n",
    "part1 works without a GPU, but training is slower."
   ]
  },
  {
   "cell_type": "code",
   "execution_count": 3,
   "id": "7a6707fc",
   "metadata": {},
   "outputs": [
    {
     "data": {
      "text/plain": [
       "True"
      ]
     },
     "execution_count": 3,
     "metadata": {},
     "output_type": "execute_result"
    }
   ],
   "source": [
    "torch.cuda.is_available()"
   ]
  },
  {
   "cell_type": "markdown",
   "id": "f8299505",
   "metadata": {},
   "source": [
    "### MNIST"
   ]
  },
  {
   "cell_type": "markdown",
   "id": "1269e201",
   "metadata": {},
   "source": [
    "download MNIST dataset"
   ]
  },
  {
   "cell_type": "code",
   "execution_count": 4,
   "id": "654b561d",
   "metadata": {
    "scrolled": false
   },
   "outputs": [
    {
     "data": {
      "text/plain": [
       "Dataset MNIST\n",
       "    Number of datapoints: 10000\n",
       "    Root location: .\n",
       "    Split: Test"
      ]
     },
     "execution_count": 4,
     "metadata": {},
     "output_type": "execute_result"
    }
   ],
   "source": [
    "from torchvision.datasets import MNIST\n",
    "MNIST(\".\", train=True, download=True)\n",
    "MNIST(\".\", train=False, download=True)"
   ]
  },
  {
   "cell_type": "markdown",
   "id": "a951de7c",
   "metadata": {},
   "source": [
    "more about MNIST:\n",
    "- http://yann.lecun.com/exdb/mnist/\n",
    "- https://pytorch.org/vision/stable/datasets.html#mnist"
   ]
  },
  {
   "cell_type": "markdown",
   "id": "db89a6f8",
   "metadata": {},
   "source": [
    "set seed for random. so all runs have the same random!<br/>\n",
    "https://pytorch-lightning.readthedocs.io/en/latest/starter/lightning_lite.html?#seed-everything"
   ]
  },
  {
   "cell_type": "code",
   "execution_count": 5,
   "id": "def5b78d",
   "metadata": {},
   "outputs": [
    {
     "name": "stderr",
     "output_type": "stream",
     "text": [
      "Global seed set to 42\n"
     ]
    },
    {
     "data": {
      "text/plain": [
       "42"
      ]
     },
     "execution_count": 5,
     "metadata": {},
     "output_type": "execute_result"
    }
   ],
   "source": [
    "import pytorch_lightning as lightning\n",
    "lightning.seed_everything(42)"
   ]
  },
  {
   "cell_type": "markdown",
   "id": "9923701a",
   "metadata": {},
   "source": [
    "split MNIST into variables  \n",
    "(split 60000 train into train/validation)  \n",
    "(never use test data for validation!)"
   ]
  },
  {
   "cell_type": "code",
   "execution_count": 6,
   "id": "4a421ed4",
   "metadata": {},
   "outputs": [],
   "source": [
    "import torchvision\n",
    "mnist_train= MNIST(\".\", train=True, transform=torchvision.transforms.ToTensor())\n",
    "train_ds, validation_ds = torch.utils.data.random_split(mnist_train,[55000,5000])\n",
    "#\n",
    "test_ds = MNIST(\".\", train=False, transform=torchvision.transforms.ToTensor())"
   ]
  },
  {
   "cell_type": "code",
   "execution_count": 7,
   "id": "187e4c09",
   "metadata": {},
   "outputs": [
    {
     "data": {
      "text/plain": [
       "torch.Size([60000, 28, 28])"
      ]
     },
     "execution_count": 7,
     "metadata": {},
     "output_type": "execute_result"
    }
   ],
   "source": [
    "mnist_train.data.size()"
   ]
  },
  {
   "cell_type": "code",
   "execution_count": 8,
   "id": "54c87e18",
   "metadata": {},
   "outputs": [
    {
     "data": {
      "text/plain": [
       "(55000, 5000)"
      ]
     },
     "execution_count": 8,
     "metadata": {},
     "output_type": "execute_result"
    }
   ],
   "source": [
    "len(train_ds), len(validation_ds)"
   ]
  },
  {
   "cell_type": "markdown",
   "id": "7552640d",
   "metadata": {},
   "source": [
    "plot an image from test dataset"
   ]
  },
  {
   "cell_type": "code",
   "execution_count": 9,
   "id": "ee9c2fd1",
   "metadata": {},
   "outputs": [
    {
     "data": {
      "image/png": "[encoded data removed]",
      "text/plain": [
       "<Figure size 432x288 with 1 Axes>"
      ]
     },
     "metadata": {
      "needs_background": "light"
     },
     "output_type": "display_data"
    }
   ],
   "source": [
    "import random\n",
    "import matplotlib.pyplot as plt\n",
    "number = random.randint(0, 1000)\n",
    "plt.imshow(test_ds.data[number], cmap='gray')\n",
    "plt.title('%i' % test_ds.targets[number])\n",
    "plt.show()"
   ]
  },
  {
   "cell_type": "markdown",
   "id": "50b922d6",
   "metadata": {},
   "source": [
    "show first dataset as tensors"
   ]
  },
  {
   "cell_type": "code",
   "execution_count": 10,
   "id": "58ca73a3",
   "metadata": {},
   "outputs": [],
   "source": [
    "# test_ds[0][0]"
   ]
  },
  {
   "cell_type": "markdown",
   "id": "ea42bcbd",
   "metadata": {},
   "source": [
    "class of first test dataset"
   ]
  },
  {
   "cell_type": "code",
   "execution_count": 11,
   "id": "e35062a9",
   "metadata": {},
   "outputs": [
    {
     "data": {
      "text/plain": [
       "tensor(7)"
      ]
     },
     "execution_count": 11,
     "metadata": {},
     "output_type": "execute_result"
    }
   ],
   "source": [
    "test_ds.targets[0]"
   ]
  },
  {
   "cell_type": "markdown",
   "id": "98603af0",
   "metadata": {},
   "source": [
    "### weights & biases"
   ]
  },
  {
   "cell_type": "markdown",
   "id": "05d47d83",
   "metadata": {},
   "source": [
    "get your token here: https://wandb.ai/settings"
   ]
  },
  {
   "cell_type": "code",
   "execution_count": 12,
   "id": "a0000f82",
   "metadata": {},
   "outputs": [
    {
     "name": "stderr",
     "output_type": "stream",
     "text": [
      "\u001b[34m\u001b[1mwandb\u001b[0m: Currently logged in as: \u001b[33mmfa\u001b[0m (use `wandb login --relogin` to force relogin)\n"
     ]
    },
    {
     "data": {
      "text/plain": [
       "True"
      ]
     },
     "execution_count": 12,
     "metadata": {},
     "output_type": "execute_result"
    }
   ],
   "source": [
    "import wandb\n",
    "wandb.login()"
   ]
  },
  {
   "cell_type": "markdown",
   "id": "30b39be1",
   "metadata": {},
   "source": [
    "### The model!"
   ]
  },
  {
   "cell_type": "markdown",
   "id": "cd2ce69c",
   "metadata": {},
   "source": [
    "![](https://miro.medium.com/max/700/1*HWhBextdDSkxYvz0kEMTVg.png)<br/>\n",
    "(image source: https://towardsdatascience.com/handwritten-digit-mnist-pytorch-977b5338e627)"
   ]
  },
  {
   "cell_type": "markdown",
   "id": "63119662",
   "metadata": {},
   "source": [
    "CrossEntropyLoss(x, y) := NLLLoss(LogSoftmax(x), y) -- https://pytorch.org/docs/stable/generated/torch.nn.CrossEntropyLoss.html"
   ]
  },
  {
   "cell_type": "code",
   "execution_count": 13,
   "id": "cbb8813d",
   "metadata": {},
   "outputs": [],
   "source": [
    "from torchmetrics import Accuracy\n",
    "from torch.nn import functional as F"
   ]
  },
  {
   "cell_type": "code",
   "execution_count": 14,
   "id": "a73b090c",
   "metadata": {},
   "outputs": [],
   "source": [
    "class MNISTModel(lightning.LightningModule):\n",
    "    def __init__(self, hidden_size=10, learning_rate=1e-2):\n",
    "        super().__init__()\n",
    "        self.save_hyperparameters()\n",
    "\n",
    "        self.learning_rate = learning_rate\n",
    "        self.batch_size = 128\n",
    "\n",
    "        # 10 different numers; images are 28x28 greyscale\n",
    "        self.num_classes = 10\n",
    "        channels, width, height = (1, 28, 28)\n",
    "\n",
    "        # simple NN\n",
    "        self.model = torch.nn.Sequential(\n",
    "            torch.nn.Flatten(),\n",
    "            torch.nn.Linear(channels * width * height, hidden_size),\n",
    "            torch.nn.ReLU(),\n",
    "            torch.nn.Linear(hidden_size, self.num_classes),\n",
    "        )\n",
    "        self.loss = torch.nn.CrossEntropyLoss()\n",
    "\n",
    "        acc = Accuracy()\n",
    "        self.train_acc = acc.clone()\n",
    "        self.valid_acc = acc.clone()\n",
    "\n",
    "    def forward(self, x):\n",
    "        return self.model(x)\n",
    "\n",
    "    def training_step(self, batch, batch_nb):\n",
    "        x, y = batch\n",
    "        y_hat = self.forward(x)\n",
    "        loss = self.loss(y_hat, y)\n",
    "        self.log(\"train/loss\", loss)\n",
    "\n",
    "        logits = self(x)\n",
    "        preds = torch.argmax(logits, dim=1)\n",
    "        self.train_acc(preds, y)\n",
    "        self.log(\"train/acc\", self.train_acc)\n",
    "        return {\"loss\": loss}\n",
    "\n",
    "    def validation_step(self, batch, batch_idx, name=\"val\"):\n",
    "        x, y = batch\n",
    "        y_hat = self.forward(x)\n",
    "        loss = self.loss(y_hat, y)\n",
    "        self.log(f\"{name}/loss\", loss)\n",
    "\n",
    "        logits = self(x)\n",
    "        preds = torch.argmax(logits, dim=1)\n",
    "        self.valid_acc(preds, y)\n",
    "\n",
    "        self.log(f\"{name}/acc\", self.valid_acc)\n",
    "        return {\"loss\": loss}\n",
    "\n",
    "    def test_step(self, batch, batch_idx):\n",
    "        return self.validation_step(batch, batch_idx, name=\"test\")\n",
    "\n",
    "    def configure_optimizers(self):\n",
    "        return torch.optim.Adam(self.parameters(), lr=self.learning_rate)\n",
    "\n",
    "    def train_dataloader(self):\n",
    "        return torch.utils.data.DataLoader(train_ds, batch_size=self.batch_size)\n",
    "\n",
    "    def val_dataloader(self):\n",
    "        return torch.utils.data.DataLoader(validation_ds, batch_size=self.batch_size)\n",
    "\n",
    "    def test_dataloader(self):\n",
    "        return torch.utils.data.DataLoader(test_ds, batch_size=self.batch_size)"
   ]
  },
  {
   "cell_type": "markdown",
   "id": "503f89f7",
   "metadata": {},
   "source": [
    "links for questions:\n",
    "- activation function: https://pytorch.org/docs/stable/generated/torch.nn.ReLU.html\n",
    "- optimizer: https://pytorch.org/docs/stable/generated/torch.optim.Adam.html"
   ]
  },
  {
   "cell_type": "markdown",
   "id": "4fa2884b",
   "metadata": {},
   "source": [
    "### train the model"
   ]
  },
  {
   "cell_type": "code",
   "execution_count": 15,
   "id": "d8f8258c",
   "metadata": {},
   "outputs": [
    {
     "data": {
      "text/html": [
       "\n",
       "                    Syncing run <strong><a href=\"https://wandb.ai/mfa/ml-workshop-part1--MNIST/runs/3dnutihg\" target=\"_blank\">sunny-tree-9</a></strong> to <a href=\"https://wandb.ai/mfa/ml-workshop-part1--MNIST\" target=\"_blank\">Weights & Biases</a> (<a href=\"https://docs.wandb.com/integrations/jupyter.html\" target=\"_blank\">docs</a>).<br/>\n",
       "\n",
       "                "
      ],
      "text/plain": [
       "<IPython.core.display.HTML object>"
      ]
     },
     "metadata": {},
     "output_type": "display_data"
    },
    {
     "name": "stderr",
     "output_type": "stream",
     "text": [
      "\u001b[34m\u001b[1mwandb\u001b[0m: logging graph, to disable use `wandb.watch(log_graph=False)`\n",
      "GPU available: True, used: False\n",
      "TPU available: False, using: 0 TPU cores\n",
      "IPU available: False, using: 0 IPUs\n",
      "/home/mfa/.virtualenvs/machine-learning-workshop/lib/python3.9/site-packages/pytorch_lightning/trainer/trainer.py:1584: UserWarning: GPU available but not used. Set the gpus flag in your trainer `Trainer(gpus=1)` or script `--gpus=1`.\n",
      "  rank_zero_warn(\n",
      "\n",
      "  | Name      | Type             | Params\n",
      "-----------------------------------------------\n",
      "0 | model     | Sequential       | 8.0 K \n",
      "1 | loss      | CrossEntropyLoss | 0     \n",
      "2 | train_acc | Accuracy         | 0     \n",
      "3 | valid_acc | Accuracy         | 0     \n",
      "-----------------------------------------------\n",
      "8.0 K     Trainable params\n",
      "0         Non-trainable params\n",
      "8.0 K     Total params\n",
      "0.032     Total estimated model params size (MB)\n"
     ]
    },
    {
     "data": {
      "application/vnd.jupyter.widget-view+json": {
       "model_id": "",
       "version_major": 2,
       "version_minor": 0
      },
      "text/plain": [
       "Validation sanity check: 0it [00:00, ?it/s]"
      ]
     },
     "metadata": {},
     "output_type": "display_data"
    },
    {
     "name": "stderr",
     "output_type": "stream",
     "text": [
      "/home/mfa/.virtualenvs/machine-learning-workshop/lib/python3.9/site-packages/pytorch_lightning/trainer/data_loading.py:132: UserWarning: The dataloader, val_dataloader 0, does not have many workers which may be a bottleneck. Consider increasing the value of the `num_workers` argument` (try 8 which is the number of cpus on this machine) in the `DataLoader` init to improve performance.\n",
      "  rank_zero_warn(\n",
      "Global seed set to 42\n",
      "/home/mfa/.virtualenvs/machine-learning-workshop/lib/python3.9/site-packages/pytorch_lightning/trainer/data_loading.py:132: UserWarning: The dataloader, train_dataloader, does not have many workers which may be a bottleneck. Consider increasing the value of the `num_workers` argument` (try 8 which is the number of cpus on this machine) in the `DataLoader` init to improve performance.\n",
      "  rank_zero_warn(\n"
     ]
    },
    {
     "data": {
      "application/vnd.jupyter.widget-view+json": {
       "model_id": "1db136a298fe4d048fca101bde8796c6",
       "version_major": 2,
       "version_minor": 0
      },
      "text/plain": [
       "Training: 0it [00:00, ?it/s]"
      ]
     },
     "metadata": {},
     "output_type": "display_data"
    },
    {
     "data": {
      "application/vnd.jupyter.widget-view+json": {
       "model_id": "",
       "version_major": 2,
       "version_minor": 0
      },
      "text/plain": [
       "Validating: 0it [00:00, ?it/s]"
      ]
     },
     "metadata": {},
     "output_type": "display_data"
    },
    {
     "data": {
      "application/vnd.jupyter.widget-view+json": {
       "model_id": "",
       "version_major": 2,
       "version_minor": 0
      },
      "text/plain": [
       "Validating: 0it [00:00, ?it/s]"
      ]
     },
     "metadata": {},
     "output_type": "display_data"
    },
    {
     "data": {
      "application/vnd.jupyter.widget-view+json": {
       "model_id": "",
       "version_major": 2,
       "version_minor": 0
      },
      "text/plain": [
       "Validating: 0it [00:00, ?it/s]"
      ]
     },
     "metadata": {},
     "output_type": "display_data"
    }
   ],
   "source": [
    "model = MNISTModel()\n",
    "wandb_logger = lightning.loggers.WandbLogger(project=\"ml-workshop-part1--MNIST\")\n",
    "wandb_logger.watch(model, log=\"all\")\n",
    "trainer = lightning.Trainer(max_epochs=3, logger=wandb_logger)\n",
    "trainer.fit(model)"
   ]
  },
  {
   "cell_type": "code",
   "execution_count": 16,
   "id": "1b13331a",
   "metadata": {
    "scrolled": false
   },
   "outputs": [
    {
     "name": "stderr",
     "output_type": "stream",
     "text": [
      "Restoring states from the checkpoint path at /home/mfa/machine-learning-workshop/ml-workshop-part1--MNIST/3dnutihg/checkpoints/epoch=2-step=1289.ckpt\n",
      "Loaded model weights from checkpoint at /home/mfa/machine-learning-workshop/ml-workshop-part1--MNIST/3dnutihg/checkpoints/epoch=2-step=1289.ckpt\n",
      "/home/mfa/.virtualenvs/machine-learning-workshop/lib/python3.9/site-packages/pytorch_lightning/trainer/data_loading.py:132: UserWarning: The dataloader, test_dataloader 0, does not have many workers which may be a bottleneck. Consider increasing the value of the `num_workers` argument` (try 8 which is the number of cpus on this machine) in the `DataLoader` init to improve performance.\n",
      "  rank_zero_warn(\n"
     ]
    },
    {
     "data": {
      "application/vnd.jupyter.widget-view+json": {
       "model_id": "6f5c4c1a628b49e6879d1156df8fa484",
       "version_major": 2,
       "version_minor": 0
      },
      "text/plain": [
       "Testing: 0it [00:00, ?it/s]"
      ]
     },
     "metadata": {},
     "output_type": "display_data"
    },
    {
     "name": "stdout",
     "output_type": "stream",
     "text": [
      "--------------------------------------------------------------------------------\n",
      "DATALOADER:0 TEST RESULTS\n",
      "{'test/acc': 0.9261999726295471, 'test/loss': 0.2697216868400574}\n",
      "--------------------------------------------------------------------------------\n"
     ]
    },
    {
     "data": {
      "text/plain": [
       "[{'test/loss': 0.2697216868400574, 'test/acc': 0.9261999726295471}]"
      ]
     },
     "execution_count": 16,
     "metadata": {},
     "output_type": "execute_result"
    }
   ],
   "source": [
    "trainer.test(ckpt_path='best')"
   ]
  },
  {
   "cell_type": "markdown",
   "id": "1a379241",
   "metadata": {},
   "source": [
    "finish wandb run. otherwise the next training is appended!"
   ]
  },
  {
   "cell_type": "code",
   "execution_count": 17,
   "id": "ad4be6fe",
   "metadata": {},
   "outputs": [
    {
     "data": {
      "text/html": [
       "<br/>Waiting for W&B process to finish, PID 412095... <strong style=\"color:green\">(success).</strong>"
      ],
      "text/plain": [
       "<IPython.core.display.HTML object>"
      ]
     },
     "metadata": {},
     "output_type": "display_data"
    },
    {
     "data": {
      "application/vnd.jupyter.widget-view+json": {
       "model_id": "",
       "version_major": 2,
       "version_minor": 0
      },
      "text/plain": [
       "VBox(children=(Label(value=' 0.00MB of 0.00MB uploaded (0.00MB deduped)\\r'), FloatProgress(value=1.0, max=1.0)…"
      ]
     },
     "metadata": {},
     "output_type": "display_data"
    },
    {
     "data": {
      "text/html": [
       "<style>\n",
       "    table.wandb td:nth-child(1) { padding: 0 10px; text-align: right }\n",
       "    .wandb-row { display: flex; flex-direction: row; flex-wrap: wrap; width: 100% }\n",
       "    .wandb-col { display: flex; flex-direction: column; flex-basis: 100%; flex: 1; padding: 10px; }\n",
       "    </style>\n",
       "<div class=\"wandb-row\"><div class=\"wandb-col\">\n",
       "<h3>Run history:</h3><br/><table class=\"wandb\"><tr><td>epoch</td><td>▁▁▁▁▁▁▁▁▁▃▃▃▃▃▃▃▃▃▃▆▆▆▆▆▆▆▆▆█</td></tr><tr><td>test/acc</td><td>▁</td></tr><tr><td>test/loss</td><td>▁</td></tr><tr><td>train/acc</td><td>▁▁▄▄▂▇▅▅▁▇▅▅▇▃▄▅▅▄▅▅█▃▅▇▇</td></tr><tr><td>train/loss</td><td>▆█▃▅▅▂▄▃▄▂▅▅▃▄▃▄▂▃▃▄▁▃▂▂▁</td></tr><tr><td>trainer/global_step</td><td>▁▁▂▂▂▂▃▃▃▃▄▄▄▄▅▅▅▆▆▆▆▆▇▇▇▇███</td></tr><tr><td>val/acc</td><td>▁██</td></tr><tr><td>val/loss</td><td>█▁▁</td></tr></table><br/></div><div class=\"wandb-col\">\n",
       "<h3>Run summary:</h3><br/><table class=\"wandb\"><tr><td>epoch</td><td>3</td></tr><tr><td>test/acc</td><td>0.9262</td></tr><tr><td>test/loss</td><td>0.26972</td></tr><tr><td>train/acc</td><td>0.95312</td></tr><tr><td>train/loss</td><td>0.17387</td></tr><tr><td>trainer/global_step</td><td>1290</td></tr><tr><td>val/acc</td><td>0.919</td></tr><tr><td>val/loss</td><td>0.28772</td></tr></table>\n",
       "</div></div>\n",
       "Synced 5 W&B file(s), 1 media file(s), 0 artifact file(s) and 0 other file(s)\n",
       "<br/>Synced <strong style=\"color:#cdcd00\">sunny-tree-9</strong>: <a href=\"https://wandb.ai/mfa/ml-workshop-part1--MNIST/runs/3dnutihg\" target=\"_blank\">https://wandb.ai/mfa/ml-workshop-part1--MNIST/runs/3dnutihg</a><br/>\n",
       "Find logs at: <code>./wandb/run-20220126_181950-3dnutihg/logs</code><br/>\n"
      ],
      "text/plain": [
       "<IPython.core.display.HTML object>"
      ]
     },
     "metadata": {},
     "output_type": "display_data"
    }
   ],
   "source": [
    "wandb.finish()"
   ]
  },
  {
   "cell_type": "markdown",
   "id": "685618fa",
   "metadata": {},
   "source": [
    "### show one test example classification"
   ]
  },
  {
   "cell_type": "code",
   "execution_count": 18,
   "id": "37f81e80",
   "metadata": {},
   "outputs": [],
   "source": [
    "image_number = 23"
   ]
  },
  {
   "cell_type": "code",
   "execution_count": 19,
   "id": "321ee61b",
   "metadata": {},
   "outputs": [
    {
     "data": {
      "text/plain": [
       "tensor(5)"
      ]
     },
     "execution_count": 19,
     "metadata": {},
     "output_type": "execute_result"
    }
   ],
   "source": [
    "test_ds.targets[image_number]"
   ]
  },
  {
   "cell_type": "markdown",
   "id": "3a737896",
   "metadata": {},
   "source": [
    "the image needs to become a one element batch"
   ]
  },
  {
   "cell_type": "code",
   "execution_count": 20,
   "id": "56e2ab47",
   "metadata": {},
   "outputs": [],
   "source": [
    "one_dataset = test_ds[image_number][0].reshape(1, 1, 28, 28)"
   ]
  },
  {
   "cell_type": "code",
   "execution_count": 21,
   "id": "e7d91c53",
   "metadata": {},
   "outputs": [
    {
     "data": {
      "text/plain": [
       "torch.Size([1, 1, 28, 28])"
      ]
     },
     "execution_count": 21,
     "metadata": {},
     "output_type": "execute_result"
    }
   ],
   "source": [
    "one_dataset.size()"
   ]
  },
  {
   "cell_type": "code",
   "execution_count": 22,
   "id": "cf5773d3",
   "metadata": {},
   "outputs": [
    {
     "data": {
      "text/plain": [
       "tensor([[ -1.4970,  -8.2735,  -5.4512,   1.2322,   0.2442,   8.0919,   3.2754,\n",
       "         -11.2216,   4.1386,  -4.7485]], grad_fn=<AddmmBackward0>)"
      ]
     },
     "execution_count": 22,
     "metadata": {},
     "output_type": "execute_result"
    }
   ],
   "source": [
    "trainer.model(one_dataset)"
   ]
  },
  {
   "cell_type": "code",
   "execution_count": 23,
   "id": "c01c7007",
   "metadata": {},
   "outputs": [
    {
     "data": {
      "text/plain": [
       "tensor([5])"
      ]
     },
     "execution_count": 23,
     "metadata": {},
     "output_type": "execute_result"
    }
   ],
   "source": [
    "torch.argmax(trainer.model(one_dataset), dim=1)"
   ]
  },
  {
   "cell_type": "markdown",
   "id": "dbe27e9a",
   "metadata": {},
   "source": [
    "target is **5** and the model says **5**"
   ]
  },
  {
   "cell_type": "markdown",
   "id": "e79c0bb8",
   "metadata": {},
   "source": [
    "### try an image we created ourselves\n",
    "\n",
    "example image: https://paste.madflex.de/eXYuvXsh/+inline \n",
    "the image should be 28 x 28, 1-bit colormap"
   ]
  },
  {
   "cell_type": "code",
   "execution_count": 24,
   "id": "5d1b1896",
   "metadata": {},
   "outputs": [
    {
     "name": "stdout",
     "output_type": "stream",
     "text": [
      "<PIL.Image.Image image mode=L size=28x28 at 0x7F3925149E20>\n"
     ]
    },
    {
     "data": {
      "image/png": "[encoded data removed]",
      "text/plain": [
       "<Figure size 432x288 with 1 Axes>"
      ]
     },
     "metadata": {
      "needs_background": "light"
     },
     "output_type": "display_data"
    }
   ],
   "source": [
    "from PIL import Image\n",
    "img = Image.open(\"own.png\").convert('L')\n",
    "print(img)\n",
    "import matplotlib.pyplot as plt\n",
    "plt.imshow(img, cmap='gray')\n",
    "plt.show()"
   ]
  },
  {
   "cell_type": "code",
   "execution_count": 25,
   "id": "26b9454a",
   "metadata": {},
   "outputs": [
    {
     "data": {
      "text/plain": [
       "tensor([[  2.8396, -18.5169,   8.4462,  12.3144, -18.3694,   1.9464, -16.8552,\n",
       "           0.7772,  12.1373,   4.3318]], grad_fn=<AddmmBackward0>)"
      ]
     },
     "execution_count": 25,
     "metadata": {},
     "output_type": "execute_result"
    }
   ],
   "source": [
    "_img = torchvision.transforms.ToTensor()(img).reshape(1, 1, 28, 28)\n",
    "trainer.model(_img)"
   ]
  },
  {
   "cell_type": "code",
   "execution_count": 26,
   "id": "01d4a39f",
   "metadata": {},
   "outputs": [
    {
     "data": {
      "text/plain": [
       "tensor(3)"
      ]
     },
     "execution_count": 26,
     "metadata": {},
     "output_type": "execute_result"
    }
   ],
   "source": [
    "torch.argmax(trainer.model(_img))"
   ]
  },
  {
   "cell_type": "markdown",
   "id": "12a73593",
   "metadata": {},
   "source": [
    "the model is not good enough"
   ]
  },
  {
   "cell_type": "markdown",
   "id": "09be326c",
   "metadata": {},
   "source": [
    "### (possible) steps to improve model"
   ]
  },
  {
   "cell_type": "markdown",
   "id": "03b163b9",
   "metadata": {},
   "source": [
    "1) increase ``hidden_size``  (i.e. to 64)"
   ]
  },
  {
   "cell_type": "markdown",
   "id": "bf635b7f",
   "metadata": {},
   "source": [
    "2) add more layer(s) and/or dropout to model:"
   ]
  },
  {
   "cell_type": "markdown",
   "id": "9a581645",
   "metadata": {},
   "source": [
    "```\n",
    "        self.model = torch.nn.Sequential(\n",
    "            torch.nn.Flatten(),\n",
    "            torch.nn.Linear(channels * width * height, hidden_size),\n",
    "            torch.nn.ReLU(),\n",
    "            torch.nn.Dropout(0.1),\n",
    "            torch.nn.Linear(hidden_size, hidden_size),\n",
    "            torch.nn.ReLU(),\n",
    "            torch.nn.Dropout(0.1),\n",
    "            torch.nn.Linear(hidden_size, self.num_classes),\n",
    "        )\n",
    "```"
   ]
  },
  {
   "cell_type": "markdown",
   "id": "a00d4cfd",
   "metadata": {},
   "source": [
    "3) use CNNs (spoiler for workshop part 2)"
   ]
  },
  {
   "cell_type": "markdown",
   "id": "be8ea43c",
   "metadata": {},
   "source": [
    "```\n",
    "        self.model = torch.nn.Sequential(\n",
    "            torch.nn.Conv2d(in_channels=1, out_channels=32, kernel_size=5, stride=1, padding=2),\n",
    "            torch.nn.ReLU(),\n",
    "            torch.nn.MaxPool2d(2),\n",
    "            torch.nn.Conv2d(32, 64, 5, 1, 2),\n",
    "            torch.nn.ReLU(),\n",
    "            torch.nn.MaxPool2d(2),\n",
    "            torch.nn.Flatten(),\n",
    "            torch.nn.Linear(64 * 7 * 7, self.num_classes),\n",
    "        )\n",
    "```"
   ]
  },
  {
   "cell_type": "markdown",
   "id": "45947046",
   "metadata": {},
   "source": [
    "4) add color normalisation when loading MNIST (may or may not help - is in a lot of MNIST tutorials)\n",
    "```\n",
    "        transform=torchvision.transforms.Compose([\n",
    "            torchvision.transforms.ToTensor(),\n",
    "            torchvision.transforms.Normalize(\n",
    "                (0.1307,), (0.3081,))\n",
    "        ])\n",
    "```"
   ]
  },
  {
   "cell_type": "code",
   "execution_count": null,
   "id": "ac7d1090",
   "metadata": {},
   "outputs": [],
   "source": []
  }
 ],
 "metadata": {
  "kernelspec": {
   "display_name": "Python 3 (ipykernel)",
   "language": "python",
   "name": "python3"
  },
  "language_info": {
   "codemirror_mode": {
    "name": "ipython",
    "version": 3
   },
   "file_extension": ".py",
   "mimetype": "text/x-python",
   "name": "python",
   "nbconvert_exporter": "python",
   "pygments_lexer": "ipython3",
   "version": "3.9.9"
  }
 },
 "nbformat": 4,
 "nbformat_minor": 5
}
